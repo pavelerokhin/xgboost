{
 "cells": [
  {
   "cell_type": "code",
   "execution_count": null,
   "outputs": [],
   "source": [
    "import pandas as pd\n",
    "import numpy as np\n",
    "import xgboost as xgb\n",
    "\n",
    "from sklearn.model_selection import train_test_split\n",
    "from sklearn.metrics import balanced_accuracy_score, roc_auc_score, make_scorer\n",
    "from sklearn.model_selection import GridSearchCV # cross validation\n",
    "from sklearn.metrics import confusion_matrix"
   ],
   "metadata": {
    "collapsed": false,
    "pycharm": {
     "is_executing": true
    }
   }
  },
  {
   "cell_type": "markdown",
   "source": [
    "Data Preparation:\n",
    "\n",
    "- The code imports the required libraries: pandas, numpy, and xgboost.\n",
    "- The code reads the data from an Excel file into a pandas DataFrame.\n",
    "- Unnecessary columns are dropped from the DataFrame.\n",
    "- Column names are cleaned by replacing spaces with underscores."
   ],
   "metadata": {
    "collapsed": false
   }
  },
  {
   "cell_type": "code",
   "execution_count": 48,
   "outputs": [],
   "source": [
    "df = pd.read_excel('df.xlsx') # Reading the data from an Excel file"
   ],
   "metadata": {
    "collapsed": false
   }
  },
  {
   "cell_type": "code",
   "execution_count": 49,
   "outputs": [
    {
     "data": {
      "text/plain": "   CustomerID  Count        Country       State         City  Zip Code   \n0  3668-QPYBK      1  United States  California  Los Angeles     90003  \\\n1  9237-HQITU      1  United States  California  Los Angeles     90005   \n2  9305-CDSKC      1  United States  California  Los Angeles     90006   \n3  7892-POOKP      1  United States  California  Los Angeles     90010   \n4  0280-XJGEX      1  United States  California  Los Angeles     90015   \n\n                 Lat Long   Latitude   Longitude  Gender  ...        Contract   \n0  33.964131, -118.272783  33.964131 -118.272783    Male  ...  Month-to-month  \\\n1   34.059281, -118.30742  34.059281 -118.307420  Female  ...  Month-to-month   \n2  34.048013, -118.293953  34.048013 -118.293953  Female  ...  Month-to-month   \n3  34.062125, -118.315709  34.062125 -118.315709  Female  ...  Month-to-month   \n4  34.039224, -118.266293  34.039224 -118.266293    Male  ...  Month-to-month   \n\n  Paperless Billing             Payment Method  Monthly Charges Total Charges   \n0               Yes               Mailed check            53.85        108.15  \\\n1               Yes           Electronic check            70.70        151.65   \n2               Yes           Electronic check            99.65         820.5   \n3               Yes           Electronic check           104.80       3046.05   \n4               Yes  Bank transfer (automatic)           103.70        5036.3   \n\n  Churn Label Churn Value Churn Score  CLTV                   Churn Reason  \n0         Yes           1          86  3239   Competitor made better offer  \n1         Yes           1          67  2701                          Moved  \n2         Yes           1          86  5372                          Moved  \n3         Yes           1          84  5003                          Moved  \n4         Yes           1          89  5340  Competitor had better devices  \n\n[5 rows x 33 columns]",
      "text/html": "<div>\n<style scoped>\n    .dataframe tbody tr th:only-of-type {\n        vertical-align: middle;\n    }\n\n    .dataframe tbody tr th {\n        vertical-align: top;\n    }\n\n    .dataframe thead th {\n        text-align: right;\n    }\n</style>\n<table border=\"1\" class=\"dataframe\">\n  <thead>\n    <tr style=\"text-align: right;\">\n      <th></th>\n      <th>CustomerID</th>\n      <th>Count</th>\n      <th>Country</th>\n      <th>State</th>\n      <th>City</th>\n      <th>Zip Code</th>\n      <th>Lat Long</th>\n      <th>Latitude</th>\n      <th>Longitude</th>\n      <th>Gender</th>\n      <th>...</th>\n      <th>Contract</th>\n      <th>Paperless Billing</th>\n      <th>Payment Method</th>\n      <th>Monthly Charges</th>\n      <th>Total Charges</th>\n      <th>Churn Label</th>\n      <th>Churn Value</th>\n      <th>Churn Score</th>\n      <th>CLTV</th>\n      <th>Churn Reason</th>\n    </tr>\n  </thead>\n  <tbody>\n    <tr>\n      <th>0</th>\n      <td>3668-QPYBK</td>\n      <td>1</td>\n      <td>United States</td>\n      <td>California</td>\n      <td>Los Angeles</td>\n      <td>90003</td>\n      <td>33.964131, -118.272783</td>\n      <td>33.964131</td>\n      <td>-118.272783</td>\n      <td>Male</td>\n      <td>...</td>\n      <td>Month-to-month</td>\n      <td>Yes</td>\n      <td>Mailed check</td>\n      <td>53.85</td>\n      <td>108.15</td>\n      <td>Yes</td>\n      <td>1</td>\n      <td>86</td>\n      <td>3239</td>\n      <td>Competitor made better offer</td>\n    </tr>\n    <tr>\n      <th>1</th>\n      <td>9237-HQITU</td>\n      <td>1</td>\n      <td>United States</td>\n      <td>California</td>\n      <td>Los Angeles</td>\n      <td>90005</td>\n      <td>34.059281, -118.30742</td>\n      <td>34.059281</td>\n      <td>-118.307420</td>\n      <td>Female</td>\n      <td>...</td>\n      <td>Month-to-month</td>\n      <td>Yes</td>\n      <td>Electronic check</td>\n      <td>70.70</td>\n      <td>151.65</td>\n      <td>Yes</td>\n      <td>1</td>\n      <td>67</td>\n      <td>2701</td>\n      <td>Moved</td>\n    </tr>\n    <tr>\n      <th>2</th>\n      <td>9305-CDSKC</td>\n      <td>1</td>\n      <td>United States</td>\n      <td>California</td>\n      <td>Los Angeles</td>\n      <td>90006</td>\n      <td>34.048013, -118.293953</td>\n      <td>34.048013</td>\n      <td>-118.293953</td>\n      <td>Female</td>\n      <td>...</td>\n      <td>Month-to-month</td>\n      <td>Yes</td>\n      <td>Electronic check</td>\n      <td>99.65</td>\n      <td>820.5</td>\n      <td>Yes</td>\n      <td>1</td>\n      <td>86</td>\n      <td>5372</td>\n      <td>Moved</td>\n    </tr>\n    <tr>\n      <th>3</th>\n      <td>7892-POOKP</td>\n      <td>1</td>\n      <td>United States</td>\n      <td>California</td>\n      <td>Los Angeles</td>\n      <td>90010</td>\n      <td>34.062125, -118.315709</td>\n      <td>34.062125</td>\n      <td>-118.315709</td>\n      <td>Female</td>\n      <td>...</td>\n      <td>Month-to-month</td>\n      <td>Yes</td>\n      <td>Electronic check</td>\n      <td>104.80</td>\n      <td>3046.05</td>\n      <td>Yes</td>\n      <td>1</td>\n      <td>84</td>\n      <td>5003</td>\n      <td>Moved</td>\n    </tr>\n    <tr>\n      <th>4</th>\n      <td>0280-XJGEX</td>\n      <td>1</td>\n      <td>United States</td>\n      <td>California</td>\n      <td>Los Angeles</td>\n      <td>90015</td>\n      <td>34.039224, -118.266293</td>\n      <td>34.039224</td>\n      <td>-118.266293</td>\n      <td>Male</td>\n      <td>...</td>\n      <td>Month-to-month</td>\n      <td>Yes</td>\n      <td>Bank transfer (automatic)</td>\n      <td>103.70</td>\n      <td>5036.3</td>\n      <td>Yes</td>\n      <td>1</td>\n      <td>89</td>\n      <td>5340</td>\n      <td>Competitor had better devices</td>\n    </tr>\n  </tbody>\n</table>\n<p>5 rows × 33 columns</p>\n</div>"
     },
     "execution_count": 49,
     "metadata": {},
     "output_type": "execute_result"
    }
   ],
   "source": [
    "df.head()"
   ],
   "metadata": {
    "collapsed": false
   }
  },
  {
   "cell_type": "code",
   "execution_count": 50,
   "outputs": [
    {
     "data": {
      "text/plain": "          City  Zip Code   Latitude   Longitude  Gender Senior Citizen   \n0  Los Angeles     90003  33.964131 -118.272783    Male             No  \\\n1  Los Angeles     90005  34.059281 -118.307420  Female             No   \n2  Los Angeles     90006  34.048013 -118.293953  Female             No   \n3  Los Angeles     90010  34.062125 -118.315709  Female             No   \n4  Los Angeles     90015  34.039224 -118.266293    Male             No   \n\n  Partner Dependents  Tenure Months Phone Service  ... Device Protection   \n0      No         No              2           Yes  ...                No  \\\n1      No        Yes              2           Yes  ...                No   \n2      No        Yes              8           Yes  ...               Yes   \n3     Yes        Yes             28           Yes  ...               Yes   \n4      No        Yes             49           Yes  ...               Yes   \n\n  Tech Support Streaming TV Streaming Movies        Contract   \n0           No           No               No  Month-to-month  \\\n1           No           No               No  Month-to-month   \n2           No          Yes              Yes  Month-to-month   \n3          Yes          Yes              Yes  Month-to-month   \n4           No          Yes              Yes  Month-to-month   \n\n  Paperless Billing             Payment Method Monthly Charges Total Charges   \n0               Yes               Mailed check           53.85        108.15  \\\n1               Yes           Electronic check           70.70        151.65   \n2               Yes           Electronic check           99.65         820.5   \n3               Yes           Electronic check          104.80       3046.05   \n4               Yes  Bank transfer (automatic)          103.70        5036.3   \n\n  Churn Value  \n0           1  \n1           1  \n2           1  \n3           1  \n4           1  \n\n[5 rows x 24 columns]",
      "text/html": "<div>\n<style scoped>\n    .dataframe tbody tr th:only-of-type {\n        vertical-align: middle;\n    }\n\n    .dataframe tbody tr th {\n        vertical-align: top;\n    }\n\n    .dataframe thead th {\n        text-align: right;\n    }\n</style>\n<table border=\"1\" class=\"dataframe\">\n  <thead>\n    <tr style=\"text-align: right;\">\n      <th></th>\n      <th>City</th>\n      <th>Zip Code</th>\n      <th>Latitude</th>\n      <th>Longitude</th>\n      <th>Gender</th>\n      <th>Senior Citizen</th>\n      <th>Partner</th>\n      <th>Dependents</th>\n      <th>Tenure Months</th>\n      <th>Phone Service</th>\n      <th>...</th>\n      <th>Device Protection</th>\n      <th>Tech Support</th>\n      <th>Streaming TV</th>\n      <th>Streaming Movies</th>\n      <th>Contract</th>\n      <th>Paperless Billing</th>\n      <th>Payment Method</th>\n      <th>Monthly Charges</th>\n      <th>Total Charges</th>\n      <th>Churn Value</th>\n    </tr>\n  </thead>\n  <tbody>\n    <tr>\n      <th>0</th>\n      <td>Los Angeles</td>\n      <td>90003</td>\n      <td>33.964131</td>\n      <td>-118.272783</td>\n      <td>Male</td>\n      <td>No</td>\n      <td>No</td>\n      <td>No</td>\n      <td>2</td>\n      <td>Yes</td>\n      <td>...</td>\n      <td>No</td>\n      <td>No</td>\n      <td>No</td>\n      <td>No</td>\n      <td>Month-to-month</td>\n      <td>Yes</td>\n      <td>Mailed check</td>\n      <td>53.85</td>\n      <td>108.15</td>\n      <td>1</td>\n    </tr>\n    <tr>\n      <th>1</th>\n      <td>Los Angeles</td>\n      <td>90005</td>\n      <td>34.059281</td>\n      <td>-118.307420</td>\n      <td>Female</td>\n      <td>No</td>\n      <td>No</td>\n      <td>Yes</td>\n      <td>2</td>\n      <td>Yes</td>\n      <td>...</td>\n      <td>No</td>\n      <td>No</td>\n      <td>No</td>\n      <td>No</td>\n      <td>Month-to-month</td>\n      <td>Yes</td>\n      <td>Electronic check</td>\n      <td>70.70</td>\n      <td>151.65</td>\n      <td>1</td>\n    </tr>\n    <tr>\n      <th>2</th>\n      <td>Los Angeles</td>\n      <td>90006</td>\n      <td>34.048013</td>\n      <td>-118.293953</td>\n      <td>Female</td>\n      <td>No</td>\n      <td>No</td>\n      <td>Yes</td>\n      <td>8</td>\n      <td>Yes</td>\n      <td>...</td>\n      <td>Yes</td>\n      <td>No</td>\n      <td>Yes</td>\n      <td>Yes</td>\n      <td>Month-to-month</td>\n      <td>Yes</td>\n      <td>Electronic check</td>\n      <td>99.65</td>\n      <td>820.5</td>\n      <td>1</td>\n    </tr>\n    <tr>\n      <th>3</th>\n      <td>Los Angeles</td>\n      <td>90010</td>\n      <td>34.062125</td>\n      <td>-118.315709</td>\n      <td>Female</td>\n      <td>No</td>\n      <td>Yes</td>\n      <td>Yes</td>\n      <td>28</td>\n      <td>Yes</td>\n      <td>...</td>\n      <td>Yes</td>\n      <td>Yes</td>\n      <td>Yes</td>\n      <td>Yes</td>\n      <td>Month-to-month</td>\n      <td>Yes</td>\n      <td>Electronic check</td>\n      <td>104.80</td>\n      <td>3046.05</td>\n      <td>1</td>\n    </tr>\n    <tr>\n      <th>4</th>\n      <td>Los Angeles</td>\n      <td>90015</td>\n      <td>34.039224</td>\n      <td>-118.266293</td>\n      <td>Male</td>\n      <td>No</td>\n      <td>No</td>\n      <td>Yes</td>\n      <td>49</td>\n      <td>Yes</td>\n      <td>...</td>\n      <td>Yes</td>\n      <td>No</td>\n      <td>Yes</td>\n      <td>Yes</td>\n      <td>Month-to-month</td>\n      <td>Yes</td>\n      <td>Bank transfer (automatic)</td>\n      <td>103.70</td>\n      <td>5036.3</td>\n      <td>1</td>\n    </tr>\n  </tbody>\n</table>\n<p>5 rows × 24 columns</p>\n</div>"
     },
     "execution_count": 50,
     "metadata": {},
     "output_type": "execute_result"
    }
   ],
   "source": [
    "df.drop(['CustomerID','Country','State',\"Churn Label\", \"Churn Score\", \"CLTV\", \"Churn Reason\", \"Count\", \"Lat Long\"],\n",
    "        axis=1,\n",
    "        inplace=True)\n",
    "df.head()"
   ],
   "metadata": {
    "collapsed": false
   }
  },
  {
   "cell_type": "markdown",
   "source": [],
   "metadata": {
    "collapsed": false
   }
  },
  {
   "cell_type": "code",
   "execution_count": 51,
   "outputs": [],
   "source": [
    "df.columns = df.columns.str.replace(' ', '_') # Replacing spaces with underscores in column names for eventual tree graph representation"
   ],
   "metadata": {
    "collapsed": false
   }
  },
  {
   "cell_type": "code",
   "execution_count": 52,
   "outputs": [
    {
     "data": {
      "text/plain": "Index(['City', 'Zip_Code', 'Latitude', 'Longitude', 'Gender', 'Senior_Citizen',\n       'Partner', 'Dependents', 'Tenure_Months', 'Phone_Service',\n       'Multiple_Lines', 'Internet_Service', 'Online_Security',\n       'Online_Backup', 'Device_Protection', 'Tech_Support', 'Streaming_TV',\n       'Streaming_Movies', 'Contract', 'Paperless_Billing', 'Payment_Method',\n       'Monthly_Charges', 'Total_Charges', 'Churn_Value'],\n      dtype='object')"
     },
     "execution_count": 52,
     "metadata": {},
     "output_type": "execute_result"
    }
   ],
   "source": [
    "df.columns"
   ],
   "metadata": {
    "collapsed": false
   }
  },
  {
   "cell_type": "markdown",
   "source": [
    "missing data"
   ],
   "metadata": {
    "collapsed": false
   }
  },
  {
   "cell_type": "code",
   "execution_count": 53,
   "outputs": [
    {
     "data": {
      "text/plain": "City                  object\nZip_Code               int64\nLatitude             float64\nLongitude            float64\nGender                object\nSenior_Citizen        object\nPartner               object\nDependents            object\nTenure_Months          int64\nPhone_Service         object\nMultiple_Lines        object\nInternet_Service      object\nOnline_Security       object\nOnline_Backup         object\nDevice_Protection     object\nTech_Support          object\nStreaming_TV          object\nStreaming_Movies      object\nContract              object\nPaperless_Billing     object\nPayment_Method        object\nMonthly_Charges      float64\nTotal_Charges         object\nChurn_Value            int64\ndtype: object"
     },
     "execution_count": 53,
     "metadata": {},
     "output_type": "execute_result"
    }
   ],
   "source": [
    "df.dtypes"
   ],
   "metadata": {
    "collapsed": false
   }
  },
  {
   "cell_type": "markdown",
   "source": [
    "a problematic column"
   ],
   "metadata": {
    "collapsed": false
   }
  },
  {
   "cell_type": "code",
   "execution_count": 54,
   "outputs": [
    {
     "data": {
      "text/plain": "array(['Yes', 'No'], dtype=object)"
     },
     "execution_count": 54,
     "metadata": {},
     "output_type": "execute_result"
    }
   ],
   "source": [
    "df['Phone_Service'].unique()"
   ],
   "metadata": {
    "collapsed": false
   }
  },
  {
   "cell_type": "code",
   "execution_count": 55,
   "outputs": [
    {
     "data": {
      "text/plain": "array([108.15, 151.65, 820.5, ..., 7362.9, 346.45, 6844.5], dtype=object)"
     },
     "execution_count": 55,
     "metadata": {},
     "output_type": "execute_result"
    }
   ],
   "source": [
    "df['Total_Charges'].unique()"
   ],
   "metadata": {
    "collapsed": false
   }
  },
  {
   "cell_type": "code",
   "execution_count": 56,
   "outputs": [
    {
     "data": {
      "text/plain": "dtype('O')"
     },
     "execution_count": 56,
     "metadata": {},
     "output_type": "execute_result"
    }
   ],
   "source": [
    "df['Total_Charges'].dtype"
   ],
   "metadata": {
    "collapsed": false
   }
  },
  {
   "cell_type": "code",
   "execution_count": 57,
   "outputs": [
    {
     "ename": "ValueError",
     "evalue": "Unable to parse string \" \" at position 2234",
     "output_type": "error",
     "traceback": [
      "\u001B[0;31m---------------------------------------------------------------------------\u001B[0m",
      "\u001B[0;31mValueError\u001B[0m                                Traceback (most recent call last)",
      "File \u001B[0;32m~/pavel/xgboost/venv/lib/python3.8/site-packages/pandas/_libs/lib.pyx:2280\u001B[0m, in \u001B[0;36mpandas._libs.lib.maybe_convert_numeric\u001B[0;34m()\u001B[0m\n",
      "\u001B[0;31mValueError\u001B[0m: Unable to parse string \" \"",
      "\nDuring handling of the above exception, another exception occurred:\n",
      "\u001B[0;31mValueError\u001B[0m                                Traceback (most recent call last)",
      "Cell \u001B[0;32mIn[57], line 1\u001B[0m\n\u001B[0;32m----> 1\u001B[0m \u001B[43mpd\u001B[49m\u001B[38;5;241;43m.\u001B[39;49m\u001B[43mto_numeric\u001B[49m\u001B[43m(\u001B[49m\u001B[43mdf\u001B[49m\u001B[43m[\u001B[49m\u001B[38;5;124;43m'\u001B[39;49m\u001B[38;5;124;43mTotal_Charges\u001B[39;49m\u001B[38;5;124;43m'\u001B[39;49m\u001B[43m]\u001B[49m\u001B[43m)\u001B[49m \u001B[38;5;66;03m# error expected\u001B[39;00m\n",
      "File \u001B[0;32m~/pavel/xgboost/venv/lib/python3.8/site-packages/pandas/core/tools/numeric.py:217\u001B[0m, in \u001B[0;36mto_numeric\u001B[0;34m(arg, errors, downcast, dtype_backend)\u001B[0m\n\u001B[1;32m    215\u001B[0m coerce_numeric \u001B[38;5;241m=\u001B[39m errors \u001B[38;5;129;01mnot\u001B[39;00m \u001B[38;5;129;01min\u001B[39;00m (\u001B[38;5;124m\"\u001B[39m\u001B[38;5;124mignore\u001B[39m\u001B[38;5;124m\"\u001B[39m, \u001B[38;5;124m\"\u001B[39m\u001B[38;5;124mraise\u001B[39m\u001B[38;5;124m\"\u001B[39m)\n\u001B[1;32m    216\u001B[0m \u001B[38;5;28;01mtry\u001B[39;00m:\n\u001B[0;32m--> 217\u001B[0m     values, new_mask \u001B[38;5;241m=\u001B[39m \u001B[43mlib\u001B[49m\u001B[38;5;241;43m.\u001B[39;49m\u001B[43mmaybe_convert_numeric\u001B[49m\u001B[43m(\u001B[49m\u001B[43m  \u001B[49m\u001B[38;5;66;43;03m# type: ignore[call-overload]  # noqa\u001B[39;49;00m\n\u001B[1;32m    218\u001B[0m \u001B[43m        \u001B[49m\u001B[43mvalues\u001B[49m\u001B[43m,\u001B[49m\n\u001B[1;32m    219\u001B[0m \u001B[43m        \u001B[49m\u001B[38;5;28;43mset\u001B[39;49m\u001B[43m(\u001B[49m\u001B[43m)\u001B[49m\u001B[43m,\u001B[49m\n\u001B[1;32m    220\u001B[0m \u001B[43m        \u001B[49m\u001B[43mcoerce_numeric\u001B[49m\u001B[38;5;241;43m=\u001B[39;49m\u001B[43mcoerce_numeric\u001B[49m\u001B[43m,\u001B[49m\n\u001B[1;32m    221\u001B[0m \u001B[43m        \u001B[49m\u001B[43mconvert_to_masked_nullable\u001B[49m\u001B[38;5;241;43m=\u001B[39;49m\u001B[43mdtype_backend\u001B[49m\u001B[43m \u001B[49m\u001B[38;5;129;43;01mis\u001B[39;49;00m\u001B[43m \u001B[49m\u001B[38;5;129;43;01mnot\u001B[39;49;00m\u001B[43m \u001B[49m\u001B[43mlib\u001B[49m\u001B[38;5;241;43m.\u001B[39;49m\u001B[43mno_default\u001B[49m\n\u001B[1;32m    222\u001B[0m \u001B[43m        \u001B[49m\u001B[38;5;129;43;01mor\u001B[39;49;00m\u001B[43m \u001B[49m\u001B[38;5;28;43misinstance\u001B[39;49m\u001B[43m(\u001B[49m\u001B[43mvalues_dtype\u001B[49m\u001B[43m,\u001B[49m\u001B[43m \u001B[49m\u001B[43mStringDtype\u001B[49m\u001B[43m)\u001B[49m\u001B[43m,\u001B[49m\n\u001B[1;32m    223\u001B[0m \u001B[43m    \u001B[49m\u001B[43m)\u001B[49m\n\u001B[1;32m    224\u001B[0m \u001B[38;5;28;01mexcept\u001B[39;00m (\u001B[38;5;167;01mValueError\u001B[39;00m, \u001B[38;5;167;01mTypeError\u001B[39;00m):\n\u001B[1;32m    225\u001B[0m     \u001B[38;5;28;01mif\u001B[39;00m errors \u001B[38;5;241m==\u001B[39m \u001B[38;5;124m\"\u001B[39m\u001B[38;5;124mraise\u001B[39m\u001B[38;5;124m\"\u001B[39m:\n",
      "File \u001B[0;32m~/pavel/xgboost/venv/lib/python3.8/site-packages/pandas/_libs/lib.pyx:2322\u001B[0m, in \u001B[0;36mpandas._libs.lib.maybe_convert_numeric\u001B[0;34m()\u001B[0m\n",
      "\u001B[0;31mValueError\u001B[0m: Unable to parse string \" \" at position 2234"
     ]
    }
   ],
   "source": [
    "pd.to_numeric(df['Total_Charges']) # error expected, because we have missing values"
   ],
   "metadata": {
    "collapsed": false
   }
  },
  {
   "cell_type": "markdown",
   "source": [
    "Missing Data:\n",
    "\n",
    "- The code explores the data types and unique values of specific columns.\n",
    "- The \"Total_Charges\" column is identified as problematic because it contains non-numeric values.\n",
    "- The code handles missing data in the \"Total_Charges\" column by replacing spaces with zeros and converting the column to numeric data type.\n",
    "- All columns in the DataFrame are cleaned by replacing spaces with underscores."
   ],
   "metadata": {
    "collapsed": false
   }
  },
  {
   "cell_type": "code",
   "execution_count": 58,
   "outputs": [
    {
     "data": {
      "text/plain": "11"
     },
     "execution_count": 58,
     "metadata": {},
     "output_type": "execute_result"
    }
   ],
   "source": [
    "len(df.loc[df['Total_Charges'] == ' '])"
   ],
   "metadata": {
    "collapsed": false
   }
  },
  {
   "cell_type": "code",
   "execution_count": 59,
   "outputs": [
    {
     "data": {
      "text/plain": "                City  Zip_Code   Latitude   Longitude  Gender Senior_Citizen   \n2234  San Bernardino     92408  34.084909 -117.258107  Female             No  \\\n2438    Independence     93526  36.869584 -118.189241    Male             No   \n2568       San Mateo     94401  37.590421 -122.306467  Female             No   \n2667       Cupertino     95014  37.306612 -122.080621    Male             No   \n2856        Redcrest     95569  40.363446 -123.835041  Female             No   \n4331     Los Angeles     90029  34.089953 -118.294824    Male             No   \n4687        Sun City     92585  33.739412 -117.173334    Male             No   \n5104      Ben Lomond     95005  37.078873 -122.090386  Female             No   \n5719        La Verne     91750  34.144703 -117.770299    Male             No   \n6772            Bell     90201  33.970343 -118.171368  Female             No   \n6840      Wilmington     90744  33.782068 -118.262263    Male             No   \n\n     Partner Dependents  Tenure_Months Phone_Service  ...   \n2234     Yes         No              0            No  ...  \\\n2438      No         No              0           Yes  ...   \n2568     Yes         No              0           Yes  ...   \n2667     Yes        Yes              0           Yes  ...   \n2856     Yes         No              0            No  ...   \n4331     Yes        Yes              0           Yes  ...   \n4687     Yes        Yes              0           Yes  ...   \n5104     Yes        Yes              0           Yes  ...   \n5719     Yes        Yes              0           Yes  ...   \n6772     Yes        Yes              0           Yes  ...   \n6840      No        Yes              0           Yes  ...   \n\n        Device_Protection         Tech_Support         Streaming_TV   \n2234                  Yes                  Yes                  Yes  \\\n2438  No internet service  No internet service  No internet service   \n2568                  Yes                   No                  Yes   \n2667  No internet service  No internet service  No internet service   \n2856                  Yes                  Yes                  Yes   \n4331  No internet service  No internet service  No internet service   \n4687  No internet service  No internet service  No internet service   \n5104  No internet service  No internet service  No internet service   \n5719  No internet service  No internet service  No internet service   \n6772                  Yes                  Yes                  Yes   \n6840                   No                  Yes                   No   \n\n         Streaming_Movies  Contract Paperless_Billing   \n2234                   No  Two year               Yes  \\\n2438  No internet service  Two year                No   \n2568                  Yes  Two year                No   \n2667  No internet service  Two year                No   \n2856                   No  Two year                No   \n4331  No internet service  Two year                No   \n4687  No internet service  Two year                No   \n5104  No internet service  Two year                No   \n5719  No internet service  One year               Yes   \n6772                   No  Two year                No   \n6840                   No  Two year               Yes   \n\n                 Payment_Method Monthly_Charges Total_Charges Churn_Value  \n2234  Bank transfer (automatic)           52.55                         0  \n2438               Mailed check           20.25                         0  \n2568               Mailed check           80.85                         0  \n2667               Mailed check           25.75                         0  \n2856    Credit card (automatic)           56.05                         0  \n4331               Mailed check           19.85                         0  \n4687               Mailed check           25.35                         0  \n5104               Mailed check           20.00                         0  \n5719               Mailed check           19.70                         0  \n6772               Mailed check           73.35                         0  \n6840  Bank transfer (automatic)           61.90                         0  \n\n[11 rows x 24 columns]",
      "text/html": "<div>\n<style scoped>\n    .dataframe tbody tr th:only-of-type {\n        vertical-align: middle;\n    }\n\n    .dataframe tbody tr th {\n        vertical-align: top;\n    }\n\n    .dataframe thead th {\n        text-align: right;\n    }\n</style>\n<table border=\"1\" class=\"dataframe\">\n  <thead>\n    <tr style=\"text-align: right;\">\n      <th></th>\n      <th>City</th>\n      <th>Zip_Code</th>\n      <th>Latitude</th>\n      <th>Longitude</th>\n      <th>Gender</th>\n      <th>Senior_Citizen</th>\n      <th>Partner</th>\n      <th>Dependents</th>\n      <th>Tenure_Months</th>\n      <th>Phone_Service</th>\n      <th>...</th>\n      <th>Device_Protection</th>\n      <th>Tech_Support</th>\n      <th>Streaming_TV</th>\n      <th>Streaming_Movies</th>\n      <th>Contract</th>\n      <th>Paperless_Billing</th>\n      <th>Payment_Method</th>\n      <th>Monthly_Charges</th>\n      <th>Total_Charges</th>\n      <th>Churn_Value</th>\n    </tr>\n  </thead>\n  <tbody>\n    <tr>\n      <th>2234</th>\n      <td>San Bernardino</td>\n      <td>92408</td>\n      <td>34.084909</td>\n      <td>-117.258107</td>\n      <td>Female</td>\n      <td>No</td>\n      <td>Yes</td>\n      <td>No</td>\n      <td>0</td>\n      <td>No</td>\n      <td>...</td>\n      <td>Yes</td>\n      <td>Yes</td>\n      <td>Yes</td>\n      <td>No</td>\n      <td>Two year</td>\n      <td>Yes</td>\n      <td>Bank transfer (automatic)</td>\n      <td>52.55</td>\n      <td></td>\n      <td>0</td>\n    </tr>\n    <tr>\n      <th>2438</th>\n      <td>Independence</td>\n      <td>93526</td>\n      <td>36.869584</td>\n      <td>-118.189241</td>\n      <td>Male</td>\n      <td>No</td>\n      <td>No</td>\n      <td>No</td>\n      <td>0</td>\n      <td>Yes</td>\n      <td>...</td>\n      <td>No internet service</td>\n      <td>No internet service</td>\n      <td>No internet service</td>\n      <td>No internet service</td>\n      <td>Two year</td>\n      <td>No</td>\n      <td>Mailed check</td>\n      <td>20.25</td>\n      <td></td>\n      <td>0</td>\n    </tr>\n    <tr>\n      <th>2568</th>\n      <td>San Mateo</td>\n      <td>94401</td>\n      <td>37.590421</td>\n      <td>-122.306467</td>\n      <td>Female</td>\n      <td>No</td>\n      <td>Yes</td>\n      <td>No</td>\n      <td>0</td>\n      <td>Yes</td>\n      <td>...</td>\n      <td>Yes</td>\n      <td>No</td>\n      <td>Yes</td>\n      <td>Yes</td>\n      <td>Two year</td>\n      <td>No</td>\n      <td>Mailed check</td>\n      <td>80.85</td>\n      <td></td>\n      <td>0</td>\n    </tr>\n    <tr>\n      <th>2667</th>\n      <td>Cupertino</td>\n      <td>95014</td>\n      <td>37.306612</td>\n      <td>-122.080621</td>\n      <td>Male</td>\n      <td>No</td>\n      <td>Yes</td>\n      <td>Yes</td>\n      <td>0</td>\n      <td>Yes</td>\n      <td>...</td>\n      <td>No internet service</td>\n      <td>No internet service</td>\n      <td>No internet service</td>\n      <td>No internet service</td>\n      <td>Two year</td>\n      <td>No</td>\n      <td>Mailed check</td>\n      <td>25.75</td>\n      <td></td>\n      <td>0</td>\n    </tr>\n    <tr>\n      <th>2856</th>\n      <td>Redcrest</td>\n      <td>95569</td>\n      <td>40.363446</td>\n      <td>-123.835041</td>\n      <td>Female</td>\n      <td>No</td>\n      <td>Yes</td>\n      <td>No</td>\n      <td>0</td>\n      <td>No</td>\n      <td>...</td>\n      <td>Yes</td>\n      <td>Yes</td>\n      <td>Yes</td>\n      <td>No</td>\n      <td>Two year</td>\n      <td>No</td>\n      <td>Credit card (automatic)</td>\n      <td>56.05</td>\n      <td></td>\n      <td>0</td>\n    </tr>\n    <tr>\n      <th>4331</th>\n      <td>Los Angeles</td>\n      <td>90029</td>\n      <td>34.089953</td>\n      <td>-118.294824</td>\n      <td>Male</td>\n      <td>No</td>\n      <td>Yes</td>\n      <td>Yes</td>\n      <td>0</td>\n      <td>Yes</td>\n      <td>...</td>\n      <td>No internet service</td>\n      <td>No internet service</td>\n      <td>No internet service</td>\n      <td>No internet service</td>\n      <td>Two year</td>\n      <td>No</td>\n      <td>Mailed check</td>\n      <td>19.85</td>\n      <td></td>\n      <td>0</td>\n    </tr>\n    <tr>\n      <th>4687</th>\n      <td>Sun City</td>\n      <td>92585</td>\n      <td>33.739412</td>\n      <td>-117.173334</td>\n      <td>Male</td>\n      <td>No</td>\n      <td>Yes</td>\n      <td>Yes</td>\n      <td>0</td>\n      <td>Yes</td>\n      <td>...</td>\n      <td>No internet service</td>\n      <td>No internet service</td>\n      <td>No internet service</td>\n      <td>No internet service</td>\n      <td>Two year</td>\n      <td>No</td>\n      <td>Mailed check</td>\n      <td>25.35</td>\n      <td></td>\n      <td>0</td>\n    </tr>\n    <tr>\n      <th>5104</th>\n      <td>Ben Lomond</td>\n      <td>95005</td>\n      <td>37.078873</td>\n      <td>-122.090386</td>\n      <td>Female</td>\n      <td>No</td>\n      <td>Yes</td>\n      <td>Yes</td>\n      <td>0</td>\n      <td>Yes</td>\n      <td>...</td>\n      <td>No internet service</td>\n      <td>No internet service</td>\n      <td>No internet service</td>\n      <td>No internet service</td>\n      <td>Two year</td>\n      <td>No</td>\n      <td>Mailed check</td>\n      <td>20.00</td>\n      <td></td>\n      <td>0</td>\n    </tr>\n    <tr>\n      <th>5719</th>\n      <td>La Verne</td>\n      <td>91750</td>\n      <td>34.144703</td>\n      <td>-117.770299</td>\n      <td>Male</td>\n      <td>No</td>\n      <td>Yes</td>\n      <td>Yes</td>\n      <td>0</td>\n      <td>Yes</td>\n      <td>...</td>\n      <td>No internet service</td>\n      <td>No internet service</td>\n      <td>No internet service</td>\n      <td>No internet service</td>\n      <td>One year</td>\n      <td>Yes</td>\n      <td>Mailed check</td>\n      <td>19.70</td>\n      <td></td>\n      <td>0</td>\n    </tr>\n    <tr>\n      <th>6772</th>\n      <td>Bell</td>\n      <td>90201</td>\n      <td>33.970343</td>\n      <td>-118.171368</td>\n      <td>Female</td>\n      <td>No</td>\n      <td>Yes</td>\n      <td>Yes</td>\n      <td>0</td>\n      <td>Yes</td>\n      <td>...</td>\n      <td>Yes</td>\n      <td>Yes</td>\n      <td>Yes</td>\n      <td>No</td>\n      <td>Two year</td>\n      <td>No</td>\n      <td>Mailed check</td>\n      <td>73.35</td>\n      <td></td>\n      <td>0</td>\n    </tr>\n    <tr>\n      <th>6840</th>\n      <td>Wilmington</td>\n      <td>90744</td>\n      <td>33.782068</td>\n      <td>-118.262263</td>\n      <td>Male</td>\n      <td>No</td>\n      <td>No</td>\n      <td>Yes</td>\n      <td>0</td>\n      <td>Yes</td>\n      <td>...</td>\n      <td>No</td>\n      <td>Yes</td>\n      <td>No</td>\n      <td>No</td>\n      <td>Two year</td>\n      <td>Yes</td>\n      <td>Bank transfer (automatic)</td>\n      <td>61.90</td>\n      <td></td>\n      <td>0</td>\n    </tr>\n  </tbody>\n</table>\n<p>11 rows × 24 columns</p>\n</div>"
     },
     "execution_count": 59,
     "metadata": {},
     "output_type": "execute_result"
    }
   ],
   "source": [
    "df.loc[df['Total_Charges'] == ' ']"
   ],
   "metadata": {
    "collapsed": false
   }
  },
  {
   "cell_type": "code",
   "execution_count": 60,
   "outputs": [],
   "source": [
    "df.loc[df['Total_Charges'] == ' ', 'Total_Charges'] = 0"
   ],
   "metadata": {
    "collapsed": false
   }
  },
  {
   "cell_type": "code",
   "execution_count": 61,
   "outputs": [
    {
     "data": {
      "text/plain": "                City  Zip_Code   Latitude   Longitude  Gender Senior_Citizen   \n2234  San Bernardino     92408  34.084909 -117.258107  Female             No  \\\n2438    Independence     93526  36.869584 -118.189241    Male             No   \n2568       San Mateo     94401  37.590421 -122.306467  Female             No   \n2667       Cupertino     95014  37.306612 -122.080621    Male             No   \n2856        Redcrest     95569  40.363446 -123.835041  Female             No   \n4331     Los Angeles     90029  34.089953 -118.294824    Male             No   \n4687        Sun City     92585  33.739412 -117.173334    Male             No   \n5104      Ben Lomond     95005  37.078873 -122.090386  Female             No   \n5719        La Verne     91750  34.144703 -117.770299    Male             No   \n6772            Bell     90201  33.970343 -118.171368  Female             No   \n6840      Wilmington     90744  33.782068 -118.262263    Male             No   \n\n     Partner Dependents  Tenure_Months Phone_Service  ...   \n2234     Yes         No              0            No  ...  \\\n2438      No         No              0           Yes  ...   \n2568     Yes         No              0           Yes  ...   \n2667     Yes        Yes              0           Yes  ...   \n2856     Yes         No              0            No  ...   \n4331     Yes        Yes              0           Yes  ...   \n4687     Yes        Yes              0           Yes  ...   \n5104     Yes        Yes              0           Yes  ...   \n5719     Yes        Yes              0           Yes  ...   \n6772     Yes        Yes              0           Yes  ...   \n6840      No        Yes              0           Yes  ...   \n\n        Device_Protection         Tech_Support         Streaming_TV   \n2234                  Yes                  Yes                  Yes  \\\n2438  No internet service  No internet service  No internet service   \n2568                  Yes                   No                  Yes   \n2667  No internet service  No internet service  No internet service   \n2856                  Yes                  Yes                  Yes   \n4331  No internet service  No internet service  No internet service   \n4687  No internet service  No internet service  No internet service   \n5104  No internet service  No internet service  No internet service   \n5719  No internet service  No internet service  No internet service   \n6772                  Yes                  Yes                  Yes   \n6840                   No                  Yes                   No   \n\n         Streaming_Movies  Contract Paperless_Billing   \n2234                   No  Two year               Yes  \\\n2438  No internet service  Two year                No   \n2568                  Yes  Two year                No   \n2667  No internet service  Two year                No   \n2856                   No  Two year                No   \n4331  No internet service  Two year                No   \n4687  No internet service  Two year                No   \n5104  No internet service  Two year                No   \n5719  No internet service  One year               Yes   \n6772                   No  Two year                No   \n6840                   No  Two year               Yes   \n\n                 Payment_Method Monthly_Charges Total_Charges Churn_Value  \n2234  Bank transfer (automatic)           52.55             0           0  \n2438               Mailed check           20.25             0           0  \n2568               Mailed check           80.85             0           0  \n2667               Mailed check           25.75             0           0  \n2856    Credit card (automatic)           56.05             0           0  \n4331               Mailed check           19.85             0           0  \n4687               Mailed check           25.35             0           0  \n5104               Mailed check           20.00             0           0  \n5719               Mailed check           19.70             0           0  \n6772               Mailed check           73.35             0           0  \n6840  Bank transfer (automatic)           61.90             0           0  \n\n[11 rows x 24 columns]",
      "text/html": "<div>\n<style scoped>\n    .dataframe tbody tr th:only-of-type {\n        vertical-align: middle;\n    }\n\n    .dataframe tbody tr th {\n        vertical-align: top;\n    }\n\n    .dataframe thead th {\n        text-align: right;\n    }\n</style>\n<table border=\"1\" class=\"dataframe\">\n  <thead>\n    <tr style=\"text-align: right;\">\n      <th></th>\n      <th>City</th>\n      <th>Zip_Code</th>\n      <th>Latitude</th>\n      <th>Longitude</th>\n      <th>Gender</th>\n      <th>Senior_Citizen</th>\n      <th>Partner</th>\n      <th>Dependents</th>\n      <th>Tenure_Months</th>\n      <th>Phone_Service</th>\n      <th>...</th>\n      <th>Device_Protection</th>\n      <th>Tech_Support</th>\n      <th>Streaming_TV</th>\n      <th>Streaming_Movies</th>\n      <th>Contract</th>\n      <th>Paperless_Billing</th>\n      <th>Payment_Method</th>\n      <th>Monthly_Charges</th>\n      <th>Total_Charges</th>\n      <th>Churn_Value</th>\n    </tr>\n  </thead>\n  <tbody>\n    <tr>\n      <th>2234</th>\n      <td>San Bernardino</td>\n      <td>92408</td>\n      <td>34.084909</td>\n      <td>-117.258107</td>\n      <td>Female</td>\n      <td>No</td>\n      <td>Yes</td>\n      <td>No</td>\n      <td>0</td>\n      <td>No</td>\n      <td>...</td>\n      <td>Yes</td>\n      <td>Yes</td>\n      <td>Yes</td>\n      <td>No</td>\n      <td>Two year</td>\n      <td>Yes</td>\n      <td>Bank transfer (automatic)</td>\n      <td>52.55</td>\n      <td>0</td>\n      <td>0</td>\n    </tr>\n    <tr>\n      <th>2438</th>\n      <td>Independence</td>\n      <td>93526</td>\n      <td>36.869584</td>\n      <td>-118.189241</td>\n      <td>Male</td>\n      <td>No</td>\n      <td>No</td>\n      <td>No</td>\n      <td>0</td>\n      <td>Yes</td>\n      <td>...</td>\n      <td>No internet service</td>\n      <td>No internet service</td>\n      <td>No internet service</td>\n      <td>No internet service</td>\n      <td>Two year</td>\n      <td>No</td>\n      <td>Mailed check</td>\n      <td>20.25</td>\n      <td>0</td>\n      <td>0</td>\n    </tr>\n    <tr>\n      <th>2568</th>\n      <td>San Mateo</td>\n      <td>94401</td>\n      <td>37.590421</td>\n      <td>-122.306467</td>\n      <td>Female</td>\n      <td>No</td>\n      <td>Yes</td>\n      <td>No</td>\n      <td>0</td>\n      <td>Yes</td>\n      <td>...</td>\n      <td>Yes</td>\n      <td>No</td>\n      <td>Yes</td>\n      <td>Yes</td>\n      <td>Two year</td>\n      <td>No</td>\n      <td>Mailed check</td>\n      <td>80.85</td>\n      <td>0</td>\n      <td>0</td>\n    </tr>\n    <tr>\n      <th>2667</th>\n      <td>Cupertino</td>\n      <td>95014</td>\n      <td>37.306612</td>\n      <td>-122.080621</td>\n      <td>Male</td>\n      <td>No</td>\n      <td>Yes</td>\n      <td>Yes</td>\n      <td>0</td>\n      <td>Yes</td>\n      <td>...</td>\n      <td>No internet service</td>\n      <td>No internet service</td>\n      <td>No internet service</td>\n      <td>No internet service</td>\n      <td>Two year</td>\n      <td>No</td>\n      <td>Mailed check</td>\n      <td>25.75</td>\n      <td>0</td>\n      <td>0</td>\n    </tr>\n    <tr>\n      <th>2856</th>\n      <td>Redcrest</td>\n      <td>95569</td>\n      <td>40.363446</td>\n      <td>-123.835041</td>\n      <td>Female</td>\n      <td>No</td>\n      <td>Yes</td>\n      <td>No</td>\n      <td>0</td>\n      <td>No</td>\n      <td>...</td>\n      <td>Yes</td>\n      <td>Yes</td>\n      <td>Yes</td>\n      <td>No</td>\n      <td>Two year</td>\n      <td>No</td>\n      <td>Credit card (automatic)</td>\n      <td>56.05</td>\n      <td>0</td>\n      <td>0</td>\n    </tr>\n    <tr>\n      <th>4331</th>\n      <td>Los Angeles</td>\n      <td>90029</td>\n      <td>34.089953</td>\n      <td>-118.294824</td>\n      <td>Male</td>\n      <td>No</td>\n      <td>Yes</td>\n      <td>Yes</td>\n      <td>0</td>\n      <td>Yes</td>\n      <td>...</td>\n      <td>No internet service</td>\n      <td>No internet service</td>\n      <td>No internet service</td>\n      <td>No internet service</td>\n      <td>Two year</td>\n      <td>No</td>\n      <td>Mailed check</td>\n      <td>19.85</td>\n      <td>0</td>\n      <td>0</td>\n    </tr>\n    <tr>\n      <th>4687</th>\n      <td>Sun City</td>\n      <td>92585</td>\n      <td>33.739412</td>\n      <td>-117.173334</td>\n      <td>Male</td>\n      <td>No</td>\n      <td>Yes</td>\n      <td>Yes</td>\n      <td>0</td>\n      <td>Yes</td>\n      <td>...</td>\n      <td>No internet service</td>\n      <td>No internet service</td>\n      <td>No internet service</td>\n      <td>No internet service</td>\n      <td>Two year</td>\n      <td>No</td>\n      <td>Mailed check</td>\n      <td>25.35</td>\n      <td>0</td>\n      <td>0</td>\n    </tr>\n    <tr>\n      <th>5104</th>\n      <td>Ben Lomond</td>\n      <td>95005</td>\n      <td>37.078873</td>\n      <td>-122.090386</td>\n      <td>Female</td>\n      <td>No</td>\n      <td>Yes</td>\n      <td>Yes</td>\n      <td>0</td>\n      <td>Yes</td>\n      <td>...</td>\n      <td>No internet service</td>\n      <td>No internet service</td>\n      <td>No internet service</td>\n      <td>No internet service</td>\n      <td>Two year</td>\n      <td>No</td>\n      <td>Mailed check</td>\n      <td>20.00</td>\n      <td>0</td>\n      <td>0</td>\n    </tr>\n    <tr>\n      <th>5719</th>\n      <td>La Verne</td>\n      <td>91750</td>\n      <td>34.144703</td>\n      <td>-117.770299</td>\n      <td>Male</td>\n      <td>No</td>\n      <td>Yes</td>\n      <td>Yes</td>\n      <td>0</td>\n      <td>Yes</td>\n      <td>...</td>\n      <td>No internet service</td>\n      <td>No internet service</td>\n      <td>No internet service</td>\n      <td>No internet service</td>\n      <td>One year</td>\n      <td>Yes</td>\n      <td>Mailed check</td>\n      <td>19.70</td>\n      <td>0</td>\n      <td>0</td>\n    </tr>\n    <tr>\n      <th>6772</th>\n      <td>Bell</td>\n      <td>90201</td>\n      <td>33.970343</td>\n      <td>-118.171368</td>\n      <td>Female</td>\n      <td>No</td>\n      <td>Yes</td>\n      <td>Yes</td>\n      <td>0</td>\n      <td>Yes</td>\n      <td>...</td>\n      <td>Yes</td>\n      <td>Yes</td>\n      <td>Yes</td>\n      <td>No</td>\n      <td>Two year</td>\n      <td>No</td>\n      <td>Mailed check</td>\n      <td>73.35</td>\n      <td>0</td>\n      <td>0</td>\n    </tr>\n    <tr>\n      <th>6840</th>\n      <td>Wilmington</td>\n      <td>90744</td>\n      <td>33.782068</td>\n      <td>-118.262263</td>\n      <td>Male</td>\n      <td>No</td>\n      <td>No</td>\n      <td>Yes</td>\n      <td>0</td>\n      <td>Yes</td>\n      <td>...</td>\n      <td>No</td>\n      <td>Yes</td>\n      <td>No</td>\n      <td>No</td>\n      <td>Two year</td>\n      <td>Yes</td>\n      <td>Bank transfer (automatic)</td>\n      <td>61.90</td>\n      <td>0</td>\n      <td>0</td>\n    </tr>\n  </tbody>\n</table>\n<p>11 rows × 24 columns</p>\n</div>"
     },
     "execution_count": 61,
     "metadata": {},
     "output_type": "execute_result"
    }
   ],
   "source": [
    "df.loc[df['Tenure_Months'] == 0]"
   ],
   "metadata": {
    "collapsed": false
   }
  },
  {
   "cell_type": "code",
   "execution_count": 62,
   "outputs": [
    {
     "data": {
      "text/plain": "City                  object\nZip_Code               int64\nLatitude             float64\nLongitude            float64\nGender                object\nSenior_Citizen        object\nPartner               object\nDependents            object\nTenure_Months          int64\nPhone_Service         object\nMultiple_Lines        object\nInternet_Service      object\nOnline_Security       object\nOnline_Backup         object\nDevice_Protection     object\nTech_Support          object\nStreaming_TV          object\nStreaming_Movies      object\nContract              object\nPaperless_Billing     object\nPayment_Method        object\nMonthly_Charges      float64\nTotal_Charges        float64\nChurn_Value            int64\ndtype: object"
     },
     "execution_count": 62,
     "metadata": {},
     "output_type": "execute_result"
    }
   ],
   "source": [
    "df['Total_Charges'] = pd.to_numeric(df['Total_Charges'])\n",
    "df.dtypes"
   ],
   "metadata": {
    "collapsed": false
   }
  },
  {
   "cell_type": "code",
   "execution_count": 63,
   "outputs": [
    {
     "data": {
      "text/plain": "          City  Zip_Code   Latitude   Longitude  Gender Senior_Citizen   \n0  Los_Angeles     90003  33.964131 -118.272783    Male             No  \\\n1  Los_Angeles     90005  34.059281 -118.307420  Female             No   \n2  Los_Angeles     90006  34.048013 -118.293953  Female             No   \n3  Los_Angeles     90010  34.062125 -118.315709  Female             No   \n4  Los_Angeles     90015  34.039224 -118.266293    Male             No   \n\n  Partner Dependents  Tenure_Months Phone_Service  ... Device_Protection   \n0      No         No              2           Yes  ...                No  \\\n1      No        Yes              2           Yes  ...                No   \n2      No        Yes              8           Yes  ...               Yes   \n3     Yes        Yes             28           Yes  ...               Yes   \n4      No        Yes             49           Yes  ...               Yes   \n\n  Tech_Support Streaming_TV Streaming_Movies        Contract   \n0           No           No               No  Month-to-month  \\\n1           No           No               No  Month-to-month   \n2           No          Yes              Yes  Month-to-month   \n3          Yes          Yes              Yes  Month-to-month   \n4           No          Yes              Yes  Month-to-month   \n\n  Paperless_Billing             Payment_Method Monthly_Charges Total_Charges   \n0               Yes               Mailed_check           53.85        108.15  \\\n1               Yes           Electronic_check           70.70        151.65   \n2               Yes           Electronic_check           99.65        820.50   \n3               Yes           Electronic_check          104.80       3046.05   \n4               Yes  Bank_transfer_(automatic)          103.70       5036.30   \n\n  Churn_Value  \n0           1  \n1           1  \n2           1  \n3           1  \n4           1  \n\n[5 rows x 24 columns]",
      "text/html": "<div>\n<style scoped>\n    .dataframe tbody tr th:only-of-type {\n        vertical-align: middle;\n    }\n\n    .dataframe tbody tr th {\n        vertical-align: top;\n    }\n\n    .dataframe thead th {\n        text-align: right;\n    }\n</style>\n<table border=\"1\" class=\"dataframe\">\n  <thead>\n    <tr style=\"text-align: right;\">\n      <th></th>\n      <th>City</th>\n      <th>Zip_Code</th>\n      <th>Latitude</th>\n      <th>Longitude</th>\n      <th>Gender</th>\n      <th>Senior_Citizen</th>\n      <th>Partner</th>\n      <th>Dependents</th>\n      <th>Tenure_Months</th>\n      <th>Phone_Service</th>\n      <th>...</th>\n      <th>Device_Protection</th>\n      <th>Tech_Support</th>\n      <th>Streaming_TV</th>\n      <th>Streaming_Movies</th>\n      <th>Contract</th>\n      <th>Paperless_Billing</th>\n      <th>Payment_Method</th>\n      <th>Monthly_Charges</th>\n      <th>Total_Charges</th>\n      <th>Churn_Value</th>\n    </tr>\n  </thead>\n  <tbody>\n    <tr>\n      <th>0</th>\n      <td>Los_Angeles</td>\n      <td>90003</td>\n      <td>33.964131</td>\n      <td>-118.272783</td>\n      <td>Male</td>\n      <td>No</td>\n      <td>No</td>\n      <td>No</td>\n      <td>2</td>\n      <td>Yes</td>\n      <td>...</td>\n      <td>No</td>\n      <td>No</td>\n      <td>No</td>\n      <td>No</td>\n      <td>Month-to-month</td>\n      <td>Yes</td>\n      <td>Mailed_check</td>\n      <td>53.85</td>\n      <td>108.15</td>\n      <td>1</td>\n    </tr>\n    <tr>\n      <th>1</th>\n      <td>Los_Angeles</td>\n      <td>90005</td>\n      <td>34.059281</td>\n      <td>-118.307420</td>\n      <td>Female</td>\n      <td>No</td>\n      <td>No</td>\n      <td>Yes</td>\n      <td>2</td>\n      <td>Yes</td>\n      <td>...</td>\n      <td>No</td>\n      <td>No</td>\n      <td>No</td>\n      <td>No</td>\n      <td>Month-to-month</td>\n      <td>Yes</td>\n      <td>Electronic_check</td>\n      <td>70.70</td>\n      <td>151.65</td>\n      <td>1</td>\n    </tr>\n    <tr>\n      <th>2</th>\n      <td>Los_Angeles</td>\n      <td>90006</td>\n      <td>34.048013</td>\n      <td>-118.293953</td>\n      <td>Female</td>\n      <td>No</td>\n      <td>No</td>\n      <td>Yes</td>\n      <td>8</td>\n      <td>Yes</td>\n      <td>...</td>\n      <td>Yes</td>\n      <td>No</td>\n      <td>Yes</td>\n      <td>Yes</td>\n      <td>Month-to-month</td>\n      <td>Yes</td>\n      <td>Electronic_check</td>\n      <td>99.65</td>\n      <td>820.50</td>\n      <td>1</td>\n    </tr>\n    <tr>\n      <th>3</th>\n      <td>Los_Angeles</td>\n      <td>90010</td>\n      <td>34.062125</td>\n      <td>-118.315709</td>\n      <td>Female</td>\n      <td>No</td>\n      <td>Yes</td>\n      <td>Yes</td>\n      <td>28</td>\n      <td>Yes</td>\n      <td>...</td>\n      <td>Yes</td>\n      <td>Yes</td>\n      <td>Yes</td>\n      <td>Yes</td>\n      <td>Month-to-month</td>\n      <td>Yes</td>\n      <td>Electronic_check</td>\n      <td>104.80</td>\n      <td>3046.05</td>\n      <td>1</td>\n    </tr>\n    <tr>\n      <th>4</th>\n      <td>Los_Angeles</td>\n      <td>90015</td>\n      <td>34.039224</td>\n      <td>-118.266293</td>\n      <td>Male</td>\n      <td>No</td>\n      <td>No</td>\n      <td>Yes</td>\n      <td>49</td>\n      <td>Yes</td>\n      <td>...</td>\n      <td>Yes</td>\n      <td>No</td>\n      <td>Yes</td>\n      <td>Yes</td>\n      <td>Month-to-month</td>\n      <td>Yes</td>\n      <td>Bank_transfer_(automatic)</td>\n      <td>103.70</td>\n      <td>5036.30</td>\n      <td>1</td>\n    </tr>\n  </tbody>\n</table>\n<p>5 rows × 24 columns</p>\n</div>"
     },
     "execution_count": 63,
     "metadata": {},
     "output_type": "execute_result"
    }
   ],
   "source": [
    "df.replace(' ', '_', regex=True, inplace=True)\n",
    "df.head()"
   ],
   "metadata": {
    "collapsed": false
   }
  },
  {
   "cell_type": "markdown",
   "source": [
    "Format Data:\n",
    "- The features (X) and target (y) are defined by splitting the DataFrame.\n",
    "- Categorical columns in X are one-hot encoded using pandas' get_dummies() function."
   ],
   "metadata": {
    "collapsed": false
   }
  },
  {
   "cell_type": "code",
   "execution_count": 64,
   "outputs": [],
   "source": [
    "X = df.drop('Churn_Value', axis=1).copy()"
   ],
   "metadata": {
    "collapsed": false
   }
  },
  {
   "cell_type": "code",
   "execution_count": 65,
   "outputs": [],
   "source": [
    "y = df['Churn_Value'].copy()"
   ],
   "metadata": {
    "collapsed": false
   }
  },
  {
   "cell_type": "code",
   "execution_count": 66,
   "outputs": [
    {
     "data": {
      "text/plain": "0    1\n1    1\n2    1\n3    1\n4    1\nName: Churn_Value, dtype: int64"
     },
     "execution_count": 66,
     "metadata": {},
     "output_type": "execute_result"
    }
   ],
   "source": [
    "y.head()"
   ],
   "metadata": {
    "collapsed": false
   }
  },
  {
   "cell_type": "markdown",
   "source": [
    "one hot encoding"
   ],
   "metadata": {
    "collapsed": false
   }
  },
  {
   "cell_type": "code",
   "execution_count": 67,
   "outputs": [
    {
     "data": {
      "text/plain": "City                  object\nZip_Code               int64\nLatitude             float64\nLongitude            float64\nGender                object\nSenior_Citizen        object\nPartner               object\nDependents            object\nTenure_Months          int64\nPhone_Service         object\nMultiple_Lines        object\nInternet_Service      object\nOnline_Security       object\nOnline_Backup         object\nDevice_Protection     object\nTech_Support          object\nStreaming_TV          object\nStreaming_Movies      object\nContract              object\nPaperless_Billing     object\nPayment_Method        object\nMonthly_Charges      float64\nTotal_Charges        float64\ndtype: object"
     },
     "execution_count": 67,
     "metadata": {},
     "output_type": "execute_result"
    }
   ],
   "source": [
    "X.dtypes"
   ],
   "metadata": {
    "collapsed": false
   }
  },
  {
   "cell_type": "code",
   "execution_count": 68,
   "outputs": [
    {
     "data": {
      "text/plain": "          City  Zip_Code   Latitude   Longitude  Gender Senior_Citizen   \n0  Los_Angeles     90003  33.964131 -118.272783    Male             No  \\\n1  Los_Angeles     90005  34.059281 -118.307420  Female             No   \n2  Los_Angeles     90006  34.048013 -118.293953  Female             No   \n3  Los_Angeles     90010  34.062125 -118.315709  Female             No   \n4  Los_Angeles     90015  34.039224 -118.266293    Male             No   \n\n  Partner Dependents  Tenure_Months Phone_Service  ... Streaming_TV   \n0      No         No              2           Yes  ...           No  \\\n1      No        Yes              2           Yes  ...           No   \n2      No        Yes              8           Yes  ...          Yes   \n3     Yes        Yes             28           Yes  ...          Yes   \n4      No        Yes             49           Yes  ...          Yes   \n\n  Streaming_Movies        Contract Paperless_Billing Monthly_Charges   \n0               No  Month-to-month               Yes           53.85  \\\n1               No  Month-to-month               Yes           70.70   \n2              Yes  Month-to-month               Yes           99.65   \n3              Yes  Month-to-month               Yes          104.80   \n4              Yes  Month-to-month               Yes          103.70   \n\n  Total_Charges Payment_Method_Bank_transfer_(automatic)   \n0        108.15                                    False  \\\n1        151.65                                    False   \n2        820.50                                    False   \n3       3046.05                                    False   \n4       5036.30                                     True   \n\n  Payment_Method_Credit_card_(automatic) Payment_Method_Electronic_check   \n0                                  False                           False  \\\n1                                  False                            True   \n2                                  False                            True   \n3                                  False                            True   \n4                                  False                           False   \n\n  Payment_Method_Mailed_check  \n0                        True  \n1                       False  \n2                       False  \n3                       False  \n4                       False  \n\n[5 rows x 26 columns]",
      "text/html": "<div>\n<style scoped>\n    .dataframe tbody tr th:only-of-type {\n        vertical-align: middle;\n    }\n\n    .dataframe tbody tr th {\n        vertical-align: top;\n    }\n\n    .dataframe thead th {\n        text-align: right;\n    }\n</style>\n<table border=\"1\" class=\"dataframe\">\n  <thead>\n    <tr style=\"text-align: right;\">\n      <th></th>\n      <th>City</th>\n      <th>Zip_Code</th>\n      <th>Latitude</th>\n      <th>Longitude</th>\n      <th>Gender</th>\n      <th>Senior_Citizen</th>\n      <th>Partner</th>\n      <th>Dependents</th>\n      <th>Tenure_Months</th>\n      <th>Phone_Service</th>\n      <th>...</th>\n      <th>Streaming_TV</th>\n      <th>Streaming_Movies</th>\n      <th>Contract</th>\n      <th>Paperless_Billing</th>\n      <th>Monthly_Charges</th>\n      <th>Total_Charges</th>\n      <th>Payment_Method_Bank_transfer_(automatic)</th>\n      <th>Payment_Method_Credit_card_(automatic)</th>\n      <th>Payment_Method_Electronic_check</th>\n      <th>Payment_Method_Mailed_check</th>\n    </tr>\n  </thead>\n  <tbody>\n    <tr>\n      <th>0</th>\n      <td>Los_Angeles</td>\n      <td>90003</td>\n      <td>33.964131</td>\n      <td>-118.272783</td>\n      <td>Male</td>\n      <td>No</td>\n      <td>No</td>\n      <td>No</td>\n      <td>2</td>\n      <td>Yes</td>\n      <td>...</td>\n      <td>No</td>\n      <td>No</td>\n      <td>Month-to-month</td>\n      <td>Yes</td>\n      <td>53.85</td>\n      <td>108.15</td>\n      <td>False</td>\n      <td>False</td>\n      <td>False</td>\n      <td>True</td>\n    </tr>\n    <tr>\n      <th>1</th>\n      <td>Los_Angeles</td>\n      <td>90005</td>\n      <td>34.059281</td>\n      <td>-118.307420</td>\n      <td>Female</td>\n      <td>No</td>\n      <td>No</td>\n      <td>Yes</td>\n      <td>2</td>\n      <td>Yes</td>\n      <td>...</td>\n      <td>No</td>\n      <td>No</td>\n      <td>Month-to-month</td>\n      <td>Yes</td>\n      <td>70.70</td>\n      <td>151.65</td>\n      <td>False</td>\n      <td>False</td>\n      <td>True</td>\n      <td>False</td>\n    </tr>\n    <tr>\n      <th>2</th>\n      <td>Los_Angeles</td>\n      <td>90006</td>\n      <td>34.048013</td>\n      <td>-118.293953</td>\n      <td>Female</td>\n      <td>No</td>\n      <td>No</td>\n      <td>Yes</td>\n      <td>8</td>\n      <td>Yes</td>\n      <td>...</td>\n      <td>Yes</td>\n      <td>Yes</td>\n      <td>Month-to-month</td>\n      <td>Yes</td>\n      <td>99.65</td>\n      <td>820.50</td>\n      <td>False</td>\n      <td>False</td>\n      <td>True</td>\n      <td>False</td>\n    </tr>\n    <tr>\n      <th>3</th>\n      <td>Los_Angeles</td>\n      <td>90010</td>\n      <td>34.062125</td>\n      <td>-118.315709</td>\n      <td>Female</td>\n      <td>No</td>\n      <td>Yes</td>\n      <td>Yes</td>\n      <td>28</td>\n      <td>Yes</td>\n      <td>...</td>\n      <td>Yes</td>\n      <td>Yes</td>\n      <td>Month-to-month</td>\n      <td>Yes</td>\n      <td>104.80</td>\n      <td>3046.05</td>\n      <td>False</td>\n      <td>False</td>\n      <td>True</td>\n      <td>False</td>\n    </tr>\n    <tr>\n      <th>4</th>\n      <td>Los_Angeles</td>\n      <td>90015</td>\n      <td>34.039224</td>\n      <td>-118.266293</td>\n      <td>Male</td>\n      <td>No</td>\n      <td>No</td>\n      <td>Yes</td>\n      <td>49</td>\n      <td>Yes</td>\n      <td>...</td>\n      <td>Yes</td>\n      <td>Yes</td>\n      <td>Month-to-month</td>\n      <td>Yes</td>\n      <td>103.70</td>\n      <td>5036.30</td>\n      <td>True</td>\n      <td>False</td>\n      <td>False</td>\n      <td>False</td>\n    </tr>\n  </tbody>\n</table>\n<p>5 rows × 26 columns</p>\n</div>"
     },
     "execution_count": 68,
     "metadata": {},
     "output_type": "execute_result"
    }
   ],
   "source": [
    "pd.get_dummies(X, columns=['Payment_Method']).head()"
   ],
   "metadata": {
    "collapsed": false
   }
  },
  {
   "cell_type": "code",
   "execution_count": 69,
   "outputs": [],
   "source": [
    "X_encoded = pd.get_dummies(X, columns=['City', 'Gender', 'Senior_Citizen',\n",
    "       'Partner', 'Dependents', 'Phone_Service', 'Multiple_Lines', 'Internet_Service',\n",
    "                                       'Online_Security', 'Online_Backup', 'Device_Protection', 'Tech_Support', 'Streaming_TV', 'Streaming_Movies', 'Contract', 'Paperless_Billing', 'Payment_Method'])"
   ],
   "metadata": {
    "collapsed": false
   }
  },
  {
   "cell_type": "code",
   "execution_count": 70,
   "outputs": [
    {
     "data": {
      "text/plain": "   Zip_Code   Latitude   Longitude  Tenure_Months  Monthly_Charges   \n0     90003  33.964131 -118.272783              2            53.85  \\\n1     90005  34.059281 -118.307420              2            70.70   \n2     90006  34.048013 -118.293953              8            99.65   \n3     90010  34.062125 -118.315709             28           104.80   \n4     90015  34.039224 -118.266293             49           103.70   \n\n   Total_Charges  City_Acampo  City_Acton  City_Adelanto  City_Adin  ...   \n0         108.15        False       False          False      False  ...  \\\n1         151.65        False       False          False      False  ...   \n2         820.50        False       False          False      False  ...   \n3        3046.05        False       False          False      False  ...   \n4        5036.30        False       False          False      False  ...   \n\n   Streaming_Movies_Yes  Contract_Month-to-month  Contract_One_year   \n0                 False                     True              False  \\\n1                 False                     True              False   \n2                  True                     True              False   \n3                  True                     True              False   \n4                  True                     True              False   \n\n   Contract_Two_year  Paperless_Billing_No  Paperless_Billing_Yes   \n0              False                 False                   True  \\\n1              False                 False                   True   \n2              False                 False                   True   \n3              False                 False                   True   \n4              False                 False                   True   \n\n   Payment_Method_Bank_transfer_(automatic)   \n0                                     False  \\\n1                                     False   \n2                                     False   \n3                                     False   \n4                                      True   \n\n   Payment_Method_Credit_card_(automatic)  Payment_Method_Electronic_check   \n0                                   False                            False  \\\n1                                   False                             True   \n2                                   False                             True   \n3                                   False                             True   \n4                                   False                            False   \n\n   Payment_Method_Mailed_check  \n0                         True  \n1                        False  \n2                        False  \n3                        False  \n4                        False  \n\n[5 rows x 1178 columns]",
      "text/html": "<div>\n<style scoped>\n    .dataframe tbody tr th:only-of-type {\n        vertical-align: middle;\n    }\n\n    .dataframe tbody tr th {\n        vertical-align: top;\n    }\n\n    .dataframe thead th {\n        text-align: right;\n    }\n</style>\n<table border=\"1\" class=\"dataframe\">\n  <thead>\n    <tr style=\"text-align: right;\">\n      <th></th>\n      <th>Zip_Code</th>\n      <th>Latitude</th>\n      <th>Longitude</th>\n      <th>Tenure_Months</th>\n      <th>Monthly_Charges</th>\n      <th>Total_Charges</th>\n      <th>City_Acampo</th>\n      <th>City_Acton</th>\n      <th>City_Adelanto</th>\n      <th>City_Adin</th>\n      <th>...</th>\n      <th>Streaming_Movies_Yes</th>\n      <th>Contract_Month-to-month</th>\n      <th>Contract_One_year</th>\n      <th>Contract_Two_year</th>\n      <th>Paperless_Billing_No</th>\n      <th>Paperless_Billing_Yes</th>\n      <th>Payment_Method_Bank_transfer_(automatic)</th>\n      <th>Payment_Method_Credit_card_(automatic)</th>\n      <th>Payment_Method_Electronic_check</th>\n      <th>Payment_Method_Mailed_check</th>\n    </tr>\n  </thead>\n  <tbody>\n    <tr>\n      <th>0</th>\n      <td>90003</td>\n      <td>33.964131</td>\n      <td>-118.272783</td>\n      <td>2</td>\n      <td>53.85</td>\n      <td>108.15</td>\n      <td>False</td>\n      <td>False</td>\n      <td>False</td>\n      <td>False</td>\n      <td>...</td>\n      <td>False</td>\n      <td>True</td>\n      <td>False</td>\n      <td>False</td>\n      <td>False</td>\n      <td>True</td>\n      <td>False</td>\n      <td>False</td>\n      <td>False</td>\n      <td>True</td>\n    </tr>\n    <tr>\n      <th>1</th>\n      <td>90005</td>\n      <td>34.059281</td>\n      <td>-118.307420</td>\n      <td>2</td>\n      <td>70.70</td>\n      <td>151.65</td>\n      <td>False</td>\n      <td>False</td>\n      <td>False</td>\n      <td>False</td>\n      <td>...</td>\n      <td>False</td>\n      <td>True</td>\n      <td>False</td>\n      <td>False</td>\n      <td>False</td>\n      <td>True</td>\n      <td>False</td>\n      <td>False</td>\n      <td>True</td>\n      <td>False</td>\n    </tr>\n    <tr>\n      <th>2</th>\n      <td>90006</td>\n      <td>34.048013</td>\n      <td>-118.293953</td>\n      <td>8</td>\n      <td>99.65</td>\n      <td>820.50</td>\n      <td>False</td>\n      <td>False</td>\n      <td>False</td>\n      <td>False</td>\n      <td>...</td>\n      <td>True</td>\n      <td>True</td>\n      <td>False</td>\n      <td>False</td>\n      <td>False</td>\n      <td>True</td>\n      <td>False</td>\n      <td>False</td>\n      <td>True</td>\n      <td>False</td>\n    </tr>\n    <tr>\n      <th>3</th>\n      <td>90010</td>\n      <td>34.062125</td>\n      <td>-118.315709</td>\n      <td>28</td>\n      <td>104.80</td>\n      <td>3046.05</td>\n      <td>False</td>\n      <td>False</td>\n      <td>False</td>\n      <td>False</td>\n      <td>...</td>\n      <td>True</td>\n      <td>True</td>\n      <td>False</td>\n      <td>False</td>\n      <td>False</td>\n      <td>True</td>\n      <td>False</td>\n      <td>False</td>\n      <td>True</td>\n      <td>False</td>\n    </tr>\n    <tr>\n      <th>4</th>\n      <td>90015</td>\n      <td>34.039224</td>\n      <td>-118.266293</td>\n      <td>49</td>\n      <td>103.70</td>\n      <td>5036.30</td>\n      <td>False</td>\n      <td>False</td>\n      <td>False</td>\n      <td>False</td>\n      <td>...</td>\n      <td>True</td>\n      <td>True</td>\n      <td>False</td>\n      <td>False</td>\n      <td>False</td>\n      <td>True</td>\n      <td>True</td>\n      <td>False</td>\n      <td>False</td>\n      <td>False</td>\n    </tr>\n  </tbody>\n</table>\n<p>5 rows × 1178 columns</p>\n</div>"
     },
     "execution_count": 70,
     "metadata": {},
     "output_type": "execute_result"
    }
   ],
   "source": [
    "X_encoded.head()"
   ],
   "metadata": {
    "collapsed": false
   }
  },
  {
   "cell_type": "code",
   "execution_count": 71,
   "outputs": [
    {
     "data": {
      "text/plain": "array([1, 0])"
     },
     "execution_count": 71,
     "metadata": {},
     "output_type": "execute_result"
    }
   ],
   "source": [
    "y.unique()"
   ],
   "metadata": {
    "collapsed": false
   }
  },
  {
   "cell_type": "markdown",
   "source": [
    "Build a Preliminary XGBoost Model:\n",
    "\n",
    "- The code calculates the churn ratio, which is the proportion of churned customers in the dataset.\n",
    "- The data is split into training and testing sets using stratified sampling to preserve the churn\n",
    " ratio.\n",
    "- An XGBoost classifier is initialized and trained on the training set.\n",
    "The model's performance is evaluated using the AUC-PR (area under the precision-recall curve) metric.\n",
    "- A confusion matrix is generated to visualize the model's predictions."
   ],
   "metadata": {
    "collapsed": false
   }
  },
  {
   "cell_type": "code",
   "execution_count": 72,
   "outputs": [
    {
     "data": {
      "text/plain": "0.2653698707936959"
     },
     "execution_count": 72,
     "metadata": {},
     "output_type": "execute_result"
    }
   ],
   "source": [
    "sum(y) / len(y)"
   ],
   "metadata": {
    "collapsed": false
   }
  },
  {
   "cell_type": "markdown",
   "source": [
    "we should use stratification to build training and testing sets"
   ],
   "metadata": {
    "collapsed": false
   }
  },
  {
   "cell_type": "code",
   "execution_count": 73,
   "outputs": [],
   "source": [
    "X_train, X_test, y_train, y_test = train_test_split(X_encoded, y, random_state=42, stratify=y)"
   ],
   "metadata": {
    "collapsed": false
   }
  },
  {
   "cell_type": "code",
   "execution_count": 77,
   "outputs": [
    {
     "data": {
      "text/plain": "0.2654297614539947"
     },
     "execution_count": 77,
     "metadata": {},
     "output_type": "execute_result"
    }
   ],
   "source": [
    "sum(y_train) / len(y_train)"
   ],
   "metadata": {
    "collapsed": false
   }
  },
  {
   "cell_type": "code",
   "execution_count": 78,
   "outputs": [
    {
     "data": {
      "text/plain": "0.26519023282226006"
     },
     "execution_count": 78,
     "metadata": {},
     "output_type": "execute_result"
    }
   ],
   "source": [
    "sum(y_test) / len(y_test)"
   ],
   "metadata": {
    "collapsed": false
   }
  },
  {
   "cell_type": "code",
   "execution_count": 79,
   "outputs": [],
   "source": [
    "clf_xgb = xgb.XGBClassifier(objective='binary:logistic', missing=None, seed=42)"
   ],
   "metadata": {
    "collapsed": false
   }
  },
  {
   "cell_type": "code",
   "execution_count": 80,
   "outputs": [
    {
     "name": "stderr",
     "output_type": "stream",
     "text": [
      "/Users/pavelerokhin/pavel/xgboost/venv/lib/python3.8/site-packages/xgboost/sklearn.py:835: UserWarning: `eval_metric` in `fit` method is deprecated for better compatibility with scikit-learn, use `eval_metric` in constructor or`set_params` instead.\n",
      "  warnings.warn(\n",
      "/Users/pavelerokhin/pavel/xgboost/venv/lib/python3.8/site-packages/xgboost/sklearn.py:835: UserWarning: `early_stopping_rounds` in `fit` method is deprecated for better compatibility with scikit-learn, use `early_stopping_rounds` in constructor or`set_params` instead.\n",
      "  warnings.warn(\n"
     ]
    },
    {
     "name": "stdout",
     "output_type": "stream",
     "text": [
      "[0]\tvalidation_0-aucpr:0.64036\n",
      "[1]\tvalidation_0-aucpr:0.64404\n",
      "[2]\tvalidation_0-aucpr:0.65124\n",
      "[3]\tvalidation_0-aucpr:0.65052\n",
      "[4]\tvalidation_0-aucpr:0.65321\n",
      "[5]\tvalidation_0-aucpr:0.64854\n",
      "[6]\tvalidation_0-aucpr:0.65459\n",
      "[7]\tvalidation_0-aucpr:0.65895\n",
      "[8]\tvalidation_0-aucpr:0.65746\n",
      "[9]\tvalidation_0-aucpr:0.65850\n",
      "[10]\tvalidation_0-aucpr:0.66217\n",
      "[11]\tvalidation_0-aucpr:0.66527\n",
      "[12]\tvalidation_0-aucpr:0.66322\n",
      "[13]\tvalidation_0-aucpr:0.66310\n",
      "[14]\tvalidation_0-aucpr:0.66000\n",
      "[15]\tvalidation_0-aucpr:0.66027\n",
      "[16]\tvalidation_0-aucpr:0.65781\n",
      "[17]\tvalidation_0-aucpr:0.65593\n",
      "[18]\tvalidation_0-aucpr:0.65738\n",
      "[19]\tvalidation_0-aucpr:0.65829\n",
      "[20]\tvalidation_0-aucpr:0.65683\n",
      "[21]\tvalidation_0-aucpr:0.65707\n"
     ]
    },
    {
     "data": {
      "text/plain": "XGBClassifier(base_score=None, booster=None, callbacks=None,\n              colsample_bylevel=None, colsample_bynode=None,\n              colsample_bytree=None, early_stopping_rounds=None,\n              enable_categorical=False, eval_metric=None, feature_types=None,\n              gamma=None, gpu_id=None, grow_policy=None, importance_type=None,\n              interaction_constraints=None, learning_rate=None, max_bin=None,\n              max_cat_threshold=None, max_cat_to_onehot=None,\n              max_delta_step=None, max_depth=None, max_leaves=None,\n              min_child_weight=None, missing=None, monotone_constraints=None,\n              n_estimators=100, n_jobs=None, num_parallel_tree=None,\n              predictor=None, random_state=None, ...)",
      "text/html": "<style>#sk-container-id-1 {color: black;background-color: white;}#sk-container-id-1 pre{padding: 0;}#sk-container-id-1 div.sk-toggleable {background-color: white;}#sk-container-id-1 label.sk-toggleable__label {cursor: pointer;display: block;width: 100%;margin-bottom: 0;padding: 0.3em;box-sizing: border-box;text-align: center;}#sk-container-id-1 label.sk-toggleable__label-arrow:before {content: \"▸\";float: left;margin-right: 0.25em;color: #696969;}#sk-container-id-1 label.sk-toggleable__label-arrow:hover:before {color: black;}#sk-container-id-1 div.sk-estimator:hover label.sk-toggleable__label-arrow:before {color: black;}#sk-container-id-1 div.sk-toggleable__content {max-height: 0;max-width: 0;overflow: hidden;text-align: left;background-color: #f0f8ff;}#sk-container-id-1 div.sk-toggleable__content pre {margin: 0.2em;color: black;border-radius: 0.25em;background-color: #f0f8ff;}#sk-container-id-1 input.sk-toggleable__control:checked~div.sk-toggleable__content {max-height: 200px;max-width: 100%;overflow: auto;}#sk-container-id-1 input.sk-toggleable__control:checked~label.sk-toggleable__label-arrow:before {content: \"▾\";}#sk-container-id-1 div.sk-estimator input.sk-toggleable__control:checked~label.sk-toggleable__label {background-color: #d4ebff;}#sk-container-id-1 div.sk-label input.sk-toggleable__control:checked~label.sk-toggleable__label {background-color: #d4ebff;}#sk-container-id-1 input.sk-hidden--visually {border: 0;clip: rect(1px 1px 1px 1px);clip: rect(1px, 1px, 1px, 1px);height: 1px;margin: -1px;overflow: hidden;padding: 0;position: absolute;width: 1px;}#sk-container-id-1 div.sk-estimator {font-family: monospace;background-color: #f0f8ff;border: 1px dotted black;border-radius: 0.25em;box-sizing: border-box;margin-bottom: 0.5em;}#sk-container-id-1 div.sk-estimator:hover {background-color: #d4ebff;}#sk-container-id-1 div.sk-parallel-item::after {content: \"\";width: 100%;border-bottom: 1px solid gray;flex-grow: 1;}#sk-container-id-1 div.sk-label:hover label.sk-toggleable__label {background-color: #d4ebff;}#sk-container-id-1 div.sk-serial::before {content: \"\";position: absolute;border-left: 1px solid gray;box-sizing: border-box;top: 0;bottom: 0;left: 50%;z-index: 0;}#sk-container-id-1 div.sk-serial {display: flex;flex-direction: column;align-items: center;background-color: white;padding-right: 0.2em;padding-left: 0.2em;position: relative;}#sk-container-id-1 div.sk-item {position: relative;z-index: 1;}#sk-container-id-1 div.sk-parallel {display: flex;align-items: stretch;justify-content: center;background-color: white;position: relative;}#sk-container-id-1 div.sk-item::before, #sk-container-id-1 div.sk-parallel-item::before {content: \"\";position: absolute;border-left: 1px solid gray;box-sizing: border-box;top: 0;bottom: 0;left: 50%;z-index: -1;}#sk-container-id-1 div.sk-parallel-item {display: flex;flex-direction: column;z-index: 1;position: relative;background-color: white;}#sk-container-id-1 div.sk-parallel-item:first-child::after {align-self: flex-end;width: 50%;}#sk-container-id-1 div.sk-parallel-item:last-child::after {align-self: flex-start;width: 50%;}#sk-container-id-1 div.sk-parallel-item:only-child::after {width: 0;}#sk-container-id-1 div.sk-dashed-wrapped {border: 1px dashed gray;margin: 0 0.4em 0.5em 0.4em;box-sizing: border-box;padding-bottom: 0.4em;background-color: white;}#sk-container-id-1 div.sk-label label {font-family: monospace;font-weight: bold;display: inline-block;line-height: 1.2em;}#sk-container-id-1 div.sk-label-container {text-align: center;}#sk-container-id-1 div.sk-container {/* jupyter's `normalize.less` sets `[hidden] { display: none; }` but bootstrap.min.css set `[hidden] { display: none !important; }` so we also need the `!important` here to be able to override the default hidden behavior on the sphinx rendered scikit-learn.org. See: https://github.com/scikit-learn/scikit-learn/issues/21755 */display: inline-block !important;position: relative;}#sk-container-id-1 div.sk-text-repr-fallback {display: none;}</style><div id=\"sk-container-id-1\" class=\"sk-top-container\"><div class=\"sk-text-repr-fallback\"><pre>XGBClassifier(base_score=None, booster=None, callbacks=None,\n              colsample_bylevel=None, colsample_bynode=None,\n              colsample_bytree=None, early_stopping_rounds=None,\n              enable_categorical=False, eval_metric=None, feature_types=None,\n              gamma=None, gpu_id=None, grow_policy=None, importance_type=None,\n              interaction_constraints=None, learning_rate=None, max_bin=None,\n              max_cat_threshold=None, max_cat_to_onehot=None,\n              max_delta_step=None, max_depth=None, max_leaves=None,\n              min_child_weight=None, missing=None, monotone_constraints=None,\n              n_estimators=100, n_jobs=None, num_parallel_tree=None,\n              predictor=None, random_state=None, ...)</pre><b>In a Jupyter environment, please rerun this cell to show the HTML representation or trust the notebook. <br />On GitHub, the HTML representation is unable to render, please try loading this page with nbviewer.org.</b></div><div class=\"sk-container\" hidden><div class=\"sk-item\"><div class=\"sk-estimator sk-toggleable\"><input class=\"sk-toggleable__control sk-hidden--visually\" id=\"sk-estimator-id-1\" type=\"checkbox\" checked><label for=\"sk-estimator-id-1\" class=\"sk-toggleable__label sk-toggleable__label-arrow\">XGBClassifier</label><div class=\"sk-toggleable__content\"><pre>XGBClassifier(base_score=None, booster=None, callbacks=None,\n              colsample_bylevel=None, colsample_bynode=None,\n              colsample_bytree=None, early_stopping_rounds=None,\n              enable_categorical=False, eval_metric=None, feature_types=None,\n              gamma=None, gpu_id=None, grow_policy=None, importance_type=None,\n              interaction_constraints=None, learning_rate=None, max_bin=None,\n              max_cat_threshold=None, max_cat_to_onehot=None,\n              max_delta_step=None, max_depth=None, max_leaves=None,\n              min_child_weight=None, missing=None, monotone_constraints=None,\n              n_estimators=100, n_jobs=None, num_parallel_tree=None,\n              predictor=None, random_state=None, ...)</pre></div></div></div></div></div>"
     },
     "execution_count": 80,
     "metadata": {},
     "output_type": "execute_result"
    }
   ],
   "source": [
    "clf_xgb.fit(X_train, y_train, verbose=True, early_stopping_rounds=10, eval_metric='aucpr',\n",
    "            eval_set=[(X_test, y_test)])"
   ],
   "metadata": {
    "collapsed": false
   }
  },
  {
   "cell_type": "code",
   "execution_count": 83,
   "outputs": [
    {
     "ename": "TypeError",
     "evalue": "confusion_matrix() got an unexpected keyword argument 'values_format'",
     "output_type": "error",
     "traceback": [
      "\u001B[0;31m---------------------------------------------------------------------------\u001B[0m",
      "\u001B[0;31mTypeError\u001B[0m                                 Traceback (most recent call last)",
      "Cell \u001B[0;32mIn[83], line 1\u001B[0m\n\u001B[0;32m----> 1\u001B[0m \u001B[43mconfusion_matrix\u001B[49m\u001B[43m(\u001B[49m\u001B[43mclf_xgb\u001B[49m\u001B[43m,\u001B[49m\u001B[43m \u001B[49m\u001B[43mX_test\u001B[49m\u001B[43m,\u001B[49m\u001B[43m \u001B[49m\u001B[43my_test\u001B[49m\u001B[43m,\u001B[49m\u001B[43m \u001B[49m\u001B[43mvalues_format\u001B[49m\u001B[38;5;241;43m=\u001B[39;49m\u001B[38;5;124;43m'\u001B[39;49m\u001B[38;5;124;43md\u001B[39;49m\u001B[38;5;124;43m'\u001B[39;49m\u001B[43m,\u001B[49m\u001B[43m \u001B[49m\u001B[43mdisplay_labels\u001B[49m\u001B[38;5;241;43m=\u001B[39;49m\u001B[43m[\u001B[49m\u001B[38;5;124;43m\"\u001B[39;49m\u001B[38;5;124;43mDid not leave\u001B[39;49m\u001B[38;5;124;43m\"\u001B[39;49m\u001B[43m,\u001B[49m\u001B[43m \u001B[49m\u001B[38;5;124;43m\"\u001B[39;49m\u001B[38;5;124;43mLeft\u001B[39;49m\u001B[38;5;124;43m\"\u001B[39;49m\u001B[43m]\u001B[49m\u001B[43m)\u001B[49m\n",
      "\u001B[0;31mTypeError\u001B[0m: confusion_matrix() got an unexpected keyword argument 'values_format'"
     ]
    }
   ],
   "source": [
    "confusion_matrix(clf_xgb, X_test, y_test, values_format='d', display_labels=[\"Did not leave\", \"Left\"])"
   ],
   "metadata": {
    "collapsed": false
   }
  },
  {
   "cell_type": "markdown",
   "source": [
    "Optimize Parameters of Cross-validation:\n",
    "\n",
    "- The code defines a parameter grid specifying different combinations of hyperparameters to be\n",
    "tested.\n",
    "- GridSearchCV is used to perform a grid search with cross-validation to find the optimal combination of hyperparameters.\n",
    "- The best parameters are printed out."
   ],
   "metadata": {
    "collapsed": false
   }
  },
  {
   "cell_type": "code",
   "execution_count": 84,
   "outputs": [],
   "source": [
    "# ROUND 1\n",
    "param_grid = {\n",
    "    'max_depth': [3, 4, 5],\n",
    "    'learning_rate': [0.1, 0.01, 0.05],\n",
    "    'gamma': [0, 0.25, 1.0],\n",
    "    'reg_lambda': [0, 1.0, 10.0],\n",
    "    'scale_pos_weight': [1, 3, 5]\n",
    "}"
   ],
   "metadata": {
    "collapsed": false
   }
  },
  {
   "cell_type": "code",
   "execution_count": 85,
   "outputs": [],
   "source": [
    "# ROUND 2\n",
    "param_grid = {\n",
    "    'max_depth': [4],\n",
    "    'learning_rate': [0.1, 0.5, 1],\n",
    "    'gamma': [0.25],\n",
    "    'reg_lambda': [10.0, 20, 100],\n",
    "    'scale_pos_weight': [3]\n",
    "}"
   ],
   "metadata": {
    "collapsed": false
   }
  },
  {
   "cell_type": "code",
   "execution_count": null,
   "outputs": [],
   "source": [
    "# NOTE: To speed up cross validation, and to further prevent overfitting,\n",
    "# we can use a random subset of the data (90%) and we are only using a random subset\n",
    "# of the featured (50%) per tree\n",
    "optimal_params = GridSearchCV(\n",
    "    estimator=xgb.XGBClassifier(objective='binary:logistic', seed=42, subsample=0.9,\n",
    "                                colsample_bytree=0.5),\n",
    "    param_grid=param_grid,\n",
    "    scoring='roc_auc',\n",
    "    verbose=0,\n",
    "    n_jobs=10,\n",
    "    cv=3\n",
    ")\n",
    "\n",
    "optimal_params.fit(X_train,\n",
    "                   y_train,\n",
    "                   early_stopping_rounds=10,\n",
    "                   eval_metric='auc',\n",
    "                   eval_set=[(X_test, y_test)],\n",
    "                   verbose=False)\n",
    "print(optimal_params.best_params_)"
   ],
   "metadata": {
    "collapsed": false
   }
  },
  {
   "cell_type": "markdown",
   "source": [
    "Optimal parameters: gamma=0.25, learn_rate=0.1, max_depth=4, reg_lambda=10"
   ],
   "metadata": {
    "collapsed": false
   }
  },
  {
   "cell_type": "code",
   "execution_count": 86,
   "outputs": [],
   "source": [
    "clf_xgb = xgb.XGBClassifier(seed=42, objective='binary:logistic', gamma=0.25, learn_rate=0.1, max_depth=4, reg_lambda=10, scale_pos_weight=3, subsample=0.9, colsample_bytree=0.5)"
   ],
   "metadata": {
    "collapsed": false
   }
  },
  {
   "cell_type": "code",
   "execution_count": 87,
   "outputs": [
    {
     "name": "stderr",
     "output_type": "stream",
     "text": [
      "/Users/pavelerokhin/pavel/xgboost/venv/lib/python3.8/site-packages/xgboost/sklearn.py:835: UserWarning: `eval_metric` in `fit` method is deprecated for better compatibility with scikit-learn, use `eval_metric` in constructor or`set_params` instead.\n",
      "  warnings.warn(\n",
      "/Users/pavelerokhin/pavel/xgboost/venv/lib/python3.8/site-packages/xgboost/sklearn.py:835: UserWarning: `early_stopping_rounds` in `fit` method is deprecated for better compatibility with scikit-learn, use `early_stopping_rounds` in constructor or`set_params` instead.\n",
      "  warnings.warn(\n"
     ]
    },
    {
     "name": "stdout",
     "output_type": "stream",
     "text": [
      "[18:03:35] WARNING: /Users/runner/work/xgboost/xgboost/python-package/build/temp.macosx-10.9-x86_64-cpython-38/xgboost/src/learner.cc:767: \n",
      "Parameters: { \"learn_rate\" } are not used.\n",
      "\n",
      "[0]\tvalidation_0-aucpr:0.55001\n",
      "[1]\tvalidation_0-aucpr:0.57244\n",
      "[2]\tvalidation_0-aucpr:0.61286\n",
      "[3]\tvalidation_0-aucpr:0.61941\n",
      "[4]\tvalidation_0-aucpr:0.64853\n",
      "[5]\tvalidation_0-aucpr:0.65112\n",
      "[6]\tvalidation_0-aucpr:0.64206\n",
      "[7]\tvalidation_0-aucpr:0.64882\n",
      "[8]\tvalidation_0-aucpr:0.65727\n",
      "[9]\tvalidation_0-aucpr:0.65918\n",
      "[10]\tvalidation_0-aucpr:0.65802\n",
      "[11]\tvalidation_0-aucpr:0.66230\n",
      "[12]\tvalidation_0-aucpr:0.66943\n",
      "[13]\tvalidation_0-aucpr:0.66864\n",
      "[14]\tvalidation_0-aucpr:0.67189\n",
      "[15]\tvalidation_0-aucpr:0.67645\n",
      "[16]\tvalidation_0-aucpr:0.67674\n",
      "[17]\tvalidation_0-aucpr:0.67907\n",
      "[18]\tvalidation_0-aucpr:0.67946\n",
      "[19]\tvalidation_0-aucpr:0.67478\n",
      "[20]\tvalidation_0-aucpr:0.67571\n",
      "[21]\tvalidation_0-aucpr:0.67249\n",
      "[22]\tvalidation_0-aucpr:0.67148\n",
      "[23]\tvalidation_0-aucpr:0.67111\n",
      "[24]\tvalidation_0-aucpr:0.66903\n",
      "[25]\tvalidation_0-aucpr:0.66974\n",
      "[26]\tvalidation_0-aucpr:0.66742\n",
      "[27]\tvalidation_0-aucpr:0.66746\n"
     ]
    },
    {
     "data": {
      "text/plain": "XGBClassifier(base_score=None, booster=None, callbacks=None,\n              colsample_bylevel=None, colsample_bynode=None,\n              colsample_bytree=0.5, early_stopping_rounds=None,\n              enable_categorical=False, eval_metric=None, feature_types=None,\n              gamma=0.25, gpu_id=None, grow_policy=None, importance_type=None,\n              interaction_constraints=None, learn_rate=0.1, learning_rate=None,\n              max_bin=None, max_cat_threshold=None, max_cat_to_onehot=None,\n              max_delta_step=None, max_depth=4, max_leaves=None,\n              min_child_weight=None, missing=nan, monotone_constraints=None,\n              n_estimators=100, n_jobs=None, num_parallel_tree=None,\n              predictor=None, ...)",
      "text/html": "<style>#sk-container-id-2 {color: black;background-color: white;}#sk-container-id-2 pre{padding: 0;}#sk-container-id-2 div.sk-toggleable {background-color: white;}#sk-container-id-2 label.sk-toggleable__label {cursor: pointer;display: block;width: 100%;margin-bottom: 0;padding: 0.3em;box-sizing: border-box;text-align: center;}#sk-container-id-2 label.sk-toggleable__label-arrow:before {content: \"▸\";float: left;margin-right: 0.25em;color: #696969;}#sk-container-id-2 label.sk-toggleable__label-arrow:hover:before {color: black;}#sk-container-id-2 div.sk-estimator:hover label.sk-toggleable__label-arrow:before {color: black;}#sk-container-id-2 div.sk-toggleable__content {max-height: 0;max-width: 0;overflow: hidden;text-align: left;background-color: #f0f8ff;}#sk-container-id-2 div.sk-toggleable__content pre {margin: 0.2em;color: black;border-radius: 0.25em;background-color: #f0f8ff;}#sk-container-id-2 input.sk-toggleable__control:checked~div.sk-toggleable__content {max-height: 200px;max-width: 100%;overflow: auto;}#sk-container-id-2 input.sk-toggleable__control:checked~label.sk-toggleable__label-arrow:before {content: \"▾\";}#sk-container-id-2 div.sk-estimator input.sk-toggleable__control:checked~label.sk-toggleable__label {background-color: #d4ebff;}#sk-container-id-2 div.sk-label input.sk-toggleable__control:checked~label.sk-toggleable__label {background-color: #d4ebff;}#sk-container-id-2 input.sk-hidden--visually {border: 0;clip: rect(1px 1px 1px 1px);clip: rect(1px, 1px, 1px, 1px);height: 1px;margin: -1px;overflow: hidden;padding: 0;position: absolute;width: 1px;}#sk-container-id-2 div.sk-estimator {font-family: monospace;background-color: #f0f8ff;border: 1px dotted black;border-radius: 0.25em;box-sizing: border-box;margin-bottom: 0.5em;}#sk-container-id-2 div.sk-estimator:hover {background-color: #d4ebff;}#sk-container-id-2 div.sk-parallel-item::after {content: \"\";width: 100%;border-bottom: 1px solid gray;flex-grow: 1;}#sk-container-id-2 div.sk-label:hover label.sk-toggleable__label {background-color: #d4ebff;}#sk-container-id-2 div.sk-serial::before {content: \"\";position: absolute;border-left: 1px solid gray;box-sizing: border-box;top: 0;bottom: 0;left: 50%;z-index: 0;}#sk-container-id-2 div.sk-serial {display: flex;flex-direction: column;align-items: center;background-color: white;padding-right: 0.2em;padding-left: 0.2em;position: relative;}#sk-container-id-2 div.sk-item {position: relative;z-index: 1;}#sk-container-id-2 div.sk-parallel {display: flex;align-items: stretch;justify-content: center;background-color: white;position: relative;}#sk-container-id-2 div.sk-item::before, #sk-container-id-2 div.sk-parallel-item::before {content: \"\";position: absolute;border-left: 1px solid gray;box-sizing: border-box;top: 0;bottom: 0;left: 50%;z-index: -1;}#sk-container-id-2 div.sk-parallel-item {display: flex;flex-direction: column;z-index: 1;position: relative;background-color: white;}#sk-container-id-2 div.sk-parallel-item:first-child::after {align-self: flex-end;width: 50%;}#sk-container-id-2 div.sk-parallel-item:last-child::after {align-self: flex-start;width: 50%;}#sk-container-id-2 div.sk-parallel-item:only-child::after {width: 0;}#sk-container-id-2 div.sk-dashed-wrapped {border: 1px dashed gray;margin: 0 0.4em 0.5em 0.4em;box-sizing: border-box;padding-bottom: 0.4em;background-color: white;}#sk-container-id-2 div.sk-label label {font-family: monospace;font-weight: bold;display: inline-block;line-height: 1.2em;}#sk-container-id-2 div.sk-label-container {text-align: center;}#sk-container-id-2 div.sk-container {/* jupyter's `normalize.less` sets `[hidden] { display: none; }` but bootstrap.min.css set `[hidden] { display: none !important; }` so we also need the `!important` here to be able to override the default hidden behavior on the sphinx rendered scikit-learn.org. See: https://github.com/scikit-learn/scikit-learn/issues/21755 */display: inline-block !important;position: relative;}#sk-container-id-2 div.sk-text-repr-fallback {display: none;}</style><div id=\"sk-container-id-2\" class=\"sk-top-container\"><div class=\"sk-text-repr-fallback\"><pre>XGBClassifier(base_score=None, booster=None, callbacks=None,\n              colsample_bylevel=None, colsample_bynode=None,\n              colsample_bytree=0.5, early_stopping_rounds=None,\n              enable_categorical=False, eval_metric=None, feature_types=None,\n              gamma=0.25, gpu_id=None, grow_policy=None, importance_type=None,\n              interaction_constraints=None, learn_rate=0.1, learning_rate=None,\n              max_bin=None, max_cat_threshold=None, max_cat_to_onehot=None,\n              max_delta_step=None, max_depth=4, max_leaves=None,\n              min_child_weight=None, missing=nan, monotone_constraints=None,\n              n_estimators=100, n_jobs=None, num_parallel_tree=None,\n              predictor=None, ...)</pre><b>In a Jupyter environment, please rerun this cell to show the HTML representation or trust the notebook. <br />On GitHub, the HTML representation is unable to render, please try loading this page with nbviewer.org.</b></div><div class=\"sk-container\" hidden><div class=\"sk-item\"><div class=\"sk-estimator sk-toggleable\"><input class=\"sk-toggleable__control sk-hidden--visually\" id=\"sk-estimator-id-2\" type=\"checkbox\" checked><label for=\"sk-estimator-id-2\" class=\"sk-toggleable__label sk-toggleable__label-arrow\">XGBClassifier</label><div class=\"sk-toggleable__content\"><pre>XGBClassifier(base_score=None, booster=None, callbacks=None,\n              colsample_bylevel=None, colsample_bynode=None,\n              colsample_bytree=0.5, early_stopping_rounds=None,\n              enable_categorical=False, eval_metric=None, feature_types=None,\n              gamma=0.25, gpu_id=None, grow_policy=None, importance_type=None,\n              interaction_constraints=None, learn_rate=0.1, learning_rate=None,\n              max_bin=None, max_cat_threshold=None, max_cat_to_onehot=None,\n              max_delta_step=None, max_depth=4, max_leaves=None,\n              min_child_weight=None, missing=nan, monotone_constraints=None,\n              n_estimators=100, n_jobs=None, num_parallel_tree=None,\n              predictor=None, ...)</pre></div></div></div></div></div>"
     },
     "execution_count": 87,
     "metadata": {},
     "output_type": "execute_result"
    }
   ],
   "source": [
    "clf_xgb.fit(X_train, y_train, verbose=True, early_stopping_rounds=10, eval_metric='aucpr', eval_set=[(X_test, y_test)])"
   ],
   "metadata": {
    "collapsed": false
   }
  },
  {
   "cell_type": "code",
   "execution_count": null,
   "outputs": [],
   "source": [],
   "metadata": {
    "collapsed": false
   }
  }
 ],
 "metadata": {
  "kernelspec": {
   "display_name": "Python 3",
   "language": "python",
   "name": "python3"
  },
  "language_info": {
   "codemirror_mode": {
    "name": "ipython",
    "version": 2
   },
   "file_extension": ".py",
   "mimetype": "text/x-python",
   "name": "python",
   "nbconvert_exporter": "python",
   "pygments_lexer": "ipython2",
   "version": "2.7.6"
  }
 },
 "nbformat": 4,
 "nbformat_minor": 0
}
